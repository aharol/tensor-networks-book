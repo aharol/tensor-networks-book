{
 "cells": [
  {
   "cell_type": "markdown",
   "metadata": {},
   "source": [
    "# Basics of Tensor Network library"
   ]
  },
  {
   "source": [
    "import numpy as np\n",
    "import tensornetwork as tn\n",
    "\n",
    "a = tn.Node(np.array([1.,2.,3.]))  # define a new node\n",
    "b = tn.Node(np.array([4.,5.,6.]))  # define another new node\n",
    "\n",
    "edge = a[0] ^ b[0]  # connect the nodes using 0th edge\n",
    "c = tn.contract(edge)\n",
    "print(c.tensor)"
   ],
   "cell_type": "markdown",
   "metadata": {}
  },
  {
   "cell_type": "code",
   "execution_count": 2,
   "metadata": {},
   "outputs": [
    {
     "output_type": "stream",
     "name": "stdout",
     "text": [
      "True True\nTrue\n"
     ]
    }
   ],
   "source": [
    "a = tn.Node(np.eye(2))  # This is a matrix, so has 2 dangling edges \n",
    "print(a[0].is_dangling(), a[1].is_dangling())\n",
    "\n",
    "edge = a[0] ^ a[1]  # Connecting the edges\n",
    "print(a[0] == a[1]) # After connection they represent the same edge"
   ]
  },
  {
   "cell_type": "markdown",
   "metadata": {},
   "source": [
    "## Axis naming"
   ]
  },
  {
   "cell_type": "code",
   "execution_count": 3,
   "metadata": {},
   "outputs": [
    {
     "output_type": "execute_result",
     "data": {
      "text/plain": [
       "Node\n",
       "(\n",
       "name : '__unnamed_node__',\n",
       "tensor : \n",
       "array(2.),\n",
       "edges : \n",
       "[] \n",
       ")"
      ]
     },
     "metadata": {},
     "execution_count": 3
    }
   ],
   "source": [
    "a = tn.Node(np.eye(2), axis_names=['alpha', 'beta'])\n",
    "edge = a['alpha'] ^ a['beta']  # a trace of the matrix\n",
    "tn.contract(edge)"
   ]
  },
  {
   "cell_type": "markdown",
   "metadata": {},
   "source": [
    "## Simple contraction"
   ]
  },
  {
   "cell_type": "markdown",
   "metadata": {},
   "source": [
    "Given a pair of tensors, there are two distinct ways one can contract them:\n",
    "\n",
    "1. Contracting edges sequencially;\n",
    "2. Contracting edges in parallel.\n",
    "\n",
    "The second option works substantially faster, as shown in the code below."
   ]
  },
  {
   "cell_type": "code",
   "execution_count": 4,
   "metadata": {},
   "outputs": [
    {
     "output_type": "stream",
     "name": "stdout",
     "text": [
      "Running one_edge_at_a_time\n0.015898055999997496\n\nRunning use_cotract_between\n0.0012846550000062962\n"
     ]
    }
   ],
   "source": [
    "from timeit import default_timer as timer\n",
    "\n",
    "def one_edge_at_a_time(a, b):\n",
    "  node1 = tn.Node(a)\n",
    "  node2 = tn.Node(b)\n",
    "  edge1 = node1[0] ^ node2[0]\n",
    "  edge2 = node1[1] ^ node2[1]\n",
    "  tn.contract(edge1)\n",
    "  result = tn.contract(edge2)\n",
    "  return result.tensor\n",
    "\n",
    "def use_contract_between(a, b):\n",
    "  node1 = tn.Node(a)\n",
    "  node2 = tn.Node(b)\n",
    "  node1[0] ^ node2[0]\n",
    "  node1[1] ^ node2[1]\n",
    "  # This is the same as \n",
    "  # tn.contract_between(node1, node2)\n",
    "  result = node1 @ node2\n",
    "  return result.tensor\n",
    "\n",
    "a = np.ones((1000, 1000))\n",
    "b = np.ones((1000, 1000))\n",
    "\n",
    "start = timer()\n",
    "print(\"Running one_edge_at_a_time\")\n",
    "one_edge_at_a_time(a, b)\n",
    "print(timer() - start)\n",
    "\n",
    "start = timer()\n",
    "print(\"\\nRunning use_cotract_between\")\n",
    "use_contract_between(a, b)\n",
    "print(timer() - start)\n"
   ]
  },
  {
   "cell_type": "markdown",
   "metadata": {},
   "source": [
    "## More complex contraction"
   ]
  },
  {
   "cell_type": "code",
   "execution_count": 5,
   "metadata": {},
   "outputs": [
    {
     "output_type": "stream",
     "name": "stdout",
     "text": [
      "64.0\n"
     ]
    }
   ],
   "source": [
    "a = tn.Node(np.ones((2, 2, 2)))\n",
    "b = tn.Node(np.ones((2, 2, 2)))\n",
    "c = tn.Node(np.ones((2, 2, 2)))\n",
    "d = tn.Node(np.ones((2, 2, 2)))\n",
    "a[0] ^ b[0]\n",
    "a[1] ^ c[1]\n",
    "a[2] ^ d[2]\n",
    "b[1] ^ d[1]\n",
    "b[2] ^ c[2]\n",
    "c[0] ^ d[0]\n",
    "\n",
    "nodes = tn.reachable(a)\n",
    "result = tn.contractors.greedy(nodes)\n",
    "print(result.tensor)"
   ]
  },
  {
   "cell_type": "markdown",
   "metadata": {},
   "source": [
    "Alternatively, using the NCON package:"
   ]
  },
  {
   "cell_type": "code",
   "execution_count": 6,
   "metadata": {},
   "outputs": [
    {
     "output_type": "execute_result",
     "data": {
      "text/plain": [
       "array(64.)"
      ]
     },
     "metadata": {},
     "execution_count": 6
    }
   ],
   "source": [
    "ones = np.ones((2, 2, 2))\n",
    "tn.ncon([ones, ones, ones, ones], \n",
    "        [[1, 2, 4], \n",
    "         [1, 3, 5], \n",
    "         [2, 3, 6],\n",
    "         [4, 5, 6]])"
   ]
  },
  {
   "cell_type": "code",
   "execution_count": null,
   "metadata": {},
   "outputs": [],
   "source": []
  }
 ],
 "metadata": {
  "celltoolbar": "Tags",
  "kernelspec": {
   "display_name": "Python 3",
   "language": "python",
   "name": "python3"
  },
  "language_info": {
   "codemirror_mode": {
    "name": "ipython",
    "version": 3
   },
   "file_extension": ".py",
   "mimetype": "text/x-python",
   "name": "python",
   "nbconvert_exporter": "python",
   "pygments_lexer": "ipython3",
   "version": "3.8.5"
  }
 },
 "nbformat": 4,
 "nbformat_minor": 4
}