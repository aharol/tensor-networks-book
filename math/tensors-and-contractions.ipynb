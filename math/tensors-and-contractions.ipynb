{
 "cells": [
  {
   "cell_type": "markdown",
   "metadata": {},
   "source": [
    "# Tensors and diagramatic notation\n",
    "Tensors are mathematical objects that are ubiquitous in modern physics and machine learning. They are generalization of vectors and matrices in higher dimensional spaces, and represent multidimentional arrays of numbers.\n",
    "\n",
    "A __tensor rank__ is used to indicate a total number of indices required to specify individual elements of a tensor. As such, a vector is tensor of rank $1$, and a matrix is a tensor of rank $2$. A trivial tensor of rank $0$ is a scalar. It is a good practice to always use the word rank to distinguish various types of tensors.\n",
    "\n",
    "```{caution}\n",
    "One should be careful when the word _rank_ is used. In linear algebra a rank of a matrix means a totally different concepts - the number of its independent columns. However, the difference should be clear from the context used. \n",
    "```\n",
    "\n",
    "Graphically, tensors can be depicted as nodes with legs attached to them depending on a rank of a tensor. Figure {numref}`basic_tensors` shows examples.\n",
    "```{figure} ./figs/basic_tensors.png\n",
    ":height: 450px\n",
    ":name: basic_tensors\n",
    "```"
   ]
  },
  {
   "source": [
    "A gentle introduction to the Tensor Network methods is {cite}`biamonteLecturesQuantumTensor2020`."
   ],
   "cell_type": "markdown",
   "metadata": {}
  },
  {
   "source": [
    "# Cited references"
   ],
   "cell_type": "markdown",
   "metadata": {}
  },
  {
   "source": [
    "```{bibliography}\n",
    ":filter: docname in docnames\n",
    ":style: unsrtalpha\n",
    "```"
   ],
   "cell_type": "markdown",
   "metadata": {}
  },
  {
   "cell_type": "code",
   "execution_count": null,
   "metadata": {},
   "outputs": [],
   "source": []
  },
  {
   "cell_type": "code",
   "execution_count": null,
   "metadata": {},
   "outputs": [],
   "source": []
  }
 ],
 "metadata": {
  "celltoolbar": "Tags",
  "kernelspec": {
   "display_name": "Python 3",
   "language": "python",
   "name": "python3"
  }
 },
 "nbformat": 4,
 "nbformat_minor": 4
}