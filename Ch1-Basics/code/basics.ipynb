{
 "cells": [
  {
   "source": [
    "# Basics of PyTorch"
   ],
   "cell_type": "markdown",
   "metadata": {}
  },
  {
   "cell_type": "markdown",
   "id": "00441916",
   "metadata": {},
   "source": [
    "## Import the dependencies"
   ]
  },
  {
   "cell_type": "code",
   "execution_count": 10,
   "id": "1023682c",
   "metadata": {},
   "outputs": [],
   "source": [
    "import random\n",
    "import numpy as np\n",
    "import torch"
   ]
  },
  {
   "source": [
    "## Set the seed for reproducibility"
   ],
   "cell_type": "markdown",
   "metadata": {}
  },
  {
   "cell_type": "code",
   "execution_count": 19,
   "metadata": {},
   "outputs": [],
   "source": [
    "def set_seed(seed: int):\n",
    "    random.seed(seed)\n",
    "    np.random.seed(seed)\n",
    "    torch.manual_seed(seed)\n",
    "    torch.cuda.manual_seed(seed)\n",
    "    torch.backends.cudnn.deterministic = True\n",
    "    torch.backends.cudnn.benchmark = True"
   ]
  },
  {
   "cell_type": "code",
   "execution_count": 20,
   "metadata": {},
   "outputs": [],
   "source": [
    "seed_everything(31415)"
   ]
  },
  {
   "cell_type": "markdown",
   "id": "dad9d393",
   "metadata": {},
   "source": [
    "## Elementary algebra"
   ]
  },
  {
   "cell_type": "code",
   "execution_count": 21,
   "id": "ddbed8d1",
   "metadata": {},
   "outputs": [
    {
     "output_type": "stream",
     "name": "stdout",
     "text": [
      "3.5 -1.5 2.5 0.4\n"
     ]
    }
   ],
   "source": [
    "A=1; B=2.5\n",
    "print(A+B, A-B, A*B, A/B)"
   ]
  },
  {
   "cell_type": "markdown",
   "id": "ab437c28",
   "metadata": {},
   "source": [
    "## Constants"
   ]
  },
  {
   "cell_type": "code",
   "execution_count": 80,
   "id": "fdb2eb33",
   "metadata": {},
   "outputs": [
    {
     "output_type": "execute_result",
     "data": {
      "text/plain": [
       "(1j, 2.718281828459045, 2.718281828459045, 3.141592653589793, inf)"
      ]
     },
     "metadata": {},
     "execution_count": 80
    }
   ],
   "source": [
    "1j, np.e, np.exp(1), np.pi, np.inf"
   ]
  },
  {
   "source": [
    "## Prohibited epressions"
   ],
   "cell_type": "markdown",
   "metadata": {}
  },
  {
   "cell_type": "code",
   "execution_count": 4,
   "metadata": {},
   "outputs": [],
   "source": [
    "expressions = ['1/0','-1/0','0/0']\n",
    "for e in expressions:\n",
    "    try:\n",
    "        eval(e)    \n",
    "    except ZeroDivisionError:\n",
    "        pass\n",
    "    else:\n",
    "        raise NotImplementedError('Should not be here!')"
   ]
  },
  {
   "cell_type": "markdown",
   "id": "86ca3dfd",
   "metadata": {},
   "source": [
    "## Vectors and matrices in PyTorch"
   ]
  },
  {
   "cell_type": "code",
   "execution_count": 22,
   "id": "3c02ba97",
   "metadata": {},
   "outputs": [
    {
     "output_type": "execute_result",
     "data": {
      "text/plain": [
       "tensor([1, 2, 3])"
      ]
     },
     "metadata": {},
     "execution_count": 22
    }
   ],
   "source": [
    "torch.tensor([1,2,3])  # row vector"
   ]
  },
  {
   "cell_type": "code",
   "execution_count": 23,
   "id": "5e803407",
   "metadata": {},
   "outputs": [
    {
     "output_type": "execute_result",
     "data": {
      "text/plain": [
       "tensor([[1],\n",
       "        [2],\n",
       "        [3]])"
      ]
     },
     "metadata": {},
     "execution_count": 23
    }
   ],
   "source": [
    "torch.tensor([[1],[2],[3]])  # column vector"
   ]
  },
  {
   "cell_type": "code",
   "execution_count": 24,
   "id": "6dd5a5d4",
   "metadata": {},
   "outputs": [
    {
     "output_type": "execute_result",
     "data": {
      "text/plain": [
       "tensor([[1],\n",
       "        [2],\n",
       "        [3]])"
      ]
     },
     "metadata": {},
     "execution_count": 24
    }
   ],
   "source": [
    "torch.tensor([1,2,3]).reshape(3,1)  # column vector from the row vector"
   ]
  },
  {
   "cell_type": "code",
   "execution_count": 25,
   "metadata": {},
   "outputs": [
    {
     "output_type": "execute_result",
     "data": {
      "text/plain": [
       "tensor([[1],\n",
       "        [2],\n",
       "        [3]])"
      ]
     },
     "metadata": {},
     "execution_count": 25
    }
   ],
   "source": [
    "torch.tensor([1,2,3]).reshape(3,-1)  # exectly the same as above, \n",
    "                                     # but the last dimension is infered"
   ]
  },
  {
   "cell_type": "code",
   "execution_count": 26,
   "id": "3078ed84",
   "metadata": {},
   "outputs": [
    {
     "output_type": "execute_result",
     "data": {
      "text/plain": [
       "tensor([[1, 2],\n",
       "        [3, 4]])"
      ]
     },
     "metadata": {},
     "execution_count": 26
    }
   ],
   "source": [
    "torch.tensor([[1,2],[3,4]])  # a matrix"
   ]
  },
  {
   "cell_type": "code",
   "execution_count": 27,
   "id": "2dfec833",
   "metadata": {},
   "outputs": [
    {
     "output_type": "execute_result",
     "data": {
      "text/plain": [
       "tensor([1, 2])"
      ]
     },
     "metadata": {},
     "execution_count": 27
    }
   ],
   "source": [
    "torch.arange(1,3)  # a range, values on the interval [1,3)"
   ]
  },
  {
   "cell_type": "code",
   "execution_count": 28,
   "id": "ae5e5af8",
   "metadata": {},
   "outputs": [
    {
     "output_type": "execute_result",
     "data": {
      "text/plain": [
       "tensor([ 1,  4,  7, 10])"
      ]
     },
     "metadata": {},
     "execution_count": 28
    }
   ],
   "source": [
    "torch.arange(1,11,step=3)  # a range, but with a step size "
   ]
  },
  {
   "cell_type": "code",
   "execution_count": 29,
   "id": "06cf2fc6",
   "metadata": {},
   "outputs": [
    {
     "output_type": "execute_result",
     "data": {
      "text/plain": [
       "tensor([ 1, -2, -5, -8])"
      ]
     },
     "metadata": {},
     "execution_count": 29
    }
   ],
   "source": [
    "torch.arange(1,-10,step=-3)  # a reverse range"
   ]
  },
  {
   "cell_type": "code",
   "execution_count": 30,
   "id": "3b306e70",
   "metadata": {},
   "outputs": [
    {
     "output_type": "execute_result",
     "data": {
      "text/plain": [
       "tensor([[0.3296, 0.2113],\n",
       "        [0.8446, 0.9235],\n",
       "        [0.5002, 0.4071]])"
      ]
     },
     "metadata": {},
     "execution_count": 30
    }
   ],
   "source": [
    "torch.rand(size=(3,2))   # a random matix"
   ]
  },
  {
   "cell_type": "code",
   "execution_count": 31,
   "id": "69da0d3c",
   "metadata": {},
   "outputs": [
    {
     "output_type": "execute_result",
     "data": {
      "text/plain": [
       "tensor([[1., 1.],\n",
       "        [1., 1.],\n",
       "        [1., 1.]])"
      ]
     },
     "metadata": {},
     "execution_count": 31
    }
   ],
   "source": [
    "torch.ones(size=(3, 2))   # a matrix of all ones"
   ]
  },
  {
   "cell_type": "code",
   "execution_count": 32,
   "id": "0bc33f31",
   "metadata": {},
   "outputs": [
    {
     "output_type": "execute_result",
     "data": {
      "text/plain": [
       "tensor([[0., 0.],\n",
       "        [0., 0.],\n",
       "        [0., 0.]])"
      ]
     },
     "metadata": {},
     "execution_count": 32
    }
   ],
   "source": [
    "torch.zeros(size=(3, 2))   # a matrix of all zeros"
   ]
  },
  {
   "cell_type": "code",
   "execution_count": 33,
   "id": "4c100435",
   "metadata": {},
   "outputs": [
    {
     "output_type": "execute_result",
     "data": {
      "text/plain": [
       "tensor([[1., 0., 0.],\n",
       "        [0., 1., 0.],\n",
       "        [0., 0., 1.]])"
      ]
     },
     "metadata": {},
     "execution_count": 33
    }
   ],
   "source": [
    "torch.eye(3)  # identity matrix"
   ]
  },
  {
   "cell_type": "code",
   "execution_count": 37,
   "metadata": {},
   "outputs": [
    {
     "output_type": "execute_result",
     "data": {
      "text/plain": [
       "tensor([[1., 0.],\n",
       "        [0., 1.],\n",
       "        [0., 0.],\n",
       "        [0., 0.]])"
      ]
     },
     "metadata": {},
     "execution_count": 37
    }
   ],
   "source": [
    "torch.eye(4,2)  # non-square \"identity\""
   ]
  },
  {
   "cell_type": "code",
   "execution_count": 38,
   "id": "9551c930",
   "metadata": {},
   "outputs": [
    {
     "output_type": "execute_result",
     "data": {
      "text/plain": [
       "tensor([0.5099, 0.4392, 0.7209])"
      ]
     },
     "metadata": {},
     "execution_count": 38
    }
   ],
   "source": [
    "torch.rand(3)   # a random vector"
   ]
  },
  {
   "cell_type": "code",
   "execution_count": 39,
   "id": "a277d698",
   "metadata": {},
   "outputs": [
    {
     "output_type": "execute_result",
     "data": {
      "text/plain": [
       "tensor([1., 1., 1.])"
      ]
     },
     "metadata": {},
     "execution_count": 39
    }
   ],
   "source": [
    "torch.ones(3)   # a vector of ones"
   ]
  },
  {
   "cell_type": "code",
   "execution_count": 40,
   "id": "3570208f",
   "metadata": {},
   "outputs": [
    {
     "output_type": "execute_result",
     "data": {
      "text/plain": [
       "tensor([0., 0., 0.])"
      ]
     },
     "metadata": {},
     "execution_count": 40
    }
   ],
   "source": [
    "torch.zeros(3)  # a vector of zeros"
   ]
  },
  {
   "cell_type": "code",
   "execution_count": 48,
   "id": "e17bbc7d",
   "metadata": {},
   "outputs": [
    {
     "output_type": "execute_result",
     "data": {
      "text/plain": [
       "tensor([[[ 0,  1,  2],\n",
       "         [ 3,  4,  5]],\n",
       "\n",
       "        [[ 6,  7,  8],\n",
       "         [ 9, 10, 11]],\n",
       "\n",
       "        [[12, 13, 14],\n",
       "         [15, 16, 17]]])"
      ]
     },
     "metadata": {},
     "execution_count": 48
    }
   ],
   "source": [
    "shape = (3,2,3)  # shape of a tensor\n",
    "A = torch.arange(np.prod(shape)).reshape(shape) # an order-3 tensor of shape (3,2,3)\n",
    "A"
   ]
  },
  {
   "cell_type": "code",
   "execution_count": 43,
   "id": "4df8612b",
   "metadata": {},
   "outputs": [
    {
     "output_type": "execute_result",
     "data": {
      "text/plain": [
       "tensor([[0, 1, 2],\n",
       "        [3, 4, 5]])"
      ]
     },
     "metadata": {},
     "execution_count": 43
    }
   ],
   "source": [
    "A[0,:,:]  # a slice of the tensor above"
   ]
  },
  {
   "cell_type": "code",
   "execution_count": 44,
   "id": "9b678a3e",
   "metadata": {},
   "outputs": [
    {
     "output_type": "execute_result",
     "data": {
      "text/plain": [
       "tensor([[ 0,  1,  2],\n",
       "        [ 6,  7,  8],\n",
       "        [12, 13, 14]])"
      ]
     },
     "metadata": {},
     "execution_count": 44
    }
   ],
   "source": [
    "A[:,0,:]"
   ]
  },
  {
   "cell_type": "code",
   "execution_count": 45,
   "metadata": {},
   "outputs": [
    {
     "output_type": "execute_result",
     "data": {
      "text/plain": [
       "tensor([[ 0,  3],\n",
       "        [ 6,  9],\n",
       "        [12, 15]])"
      ]
     },
     "metadata": {},
     "execution_count": 45
    }
   ],
   "source": [
    "A[:,:,0]"
   ]
  },
  {
   "cell_type": "markdown",
   "id": "afb3e527",
   "metadata": {},
   "source": [
    "## Matrix operations"
   ]
  },
  {
   "cell_type": "code",
   "execution_count": 47,
   "id": "e786f5e6",
   "metadata": {},
   "outputs": [],
   "source": [
    "A = torch.rand((3,2)); B = torch.rand((2,4))"
   ]
  },
  {
   "cell_type": "code",
   "execution_count": 96,
   "id": "4a4d71b6",
   "metadata": {},
   "outputs": [
    {
     "output_type": "execute_result",
     "data": {
      "text/plain": [
       "tensor([[0.2016, 0.2191, 0.0886, 0.0267],\n",
       "        [0.2173, 0.2395, 0.0960, 0.0303],\n",
       "        [0.5292, 0.4758, 0.2159, 0.0267]])"
      ]
     },
     "metadata": {},
     "execution_count": 96
    }
   ],
   "source": [
    "A @ B  # matrix multiplication"
   ]
  },
  {
   "cell_type": "code",
   "execution_count": 50,
   "id": "3b4d3531",
   "metadata": {},
   "outputs": [
    {
     "output_type": "execute_result",
     "data": {
      "text/plain": [
       "(tensor([[0., 1.],\n",
       "         [2., 3.]], dtype=torch.float64),\n",
       " tensor([[3., 4.],\n",
       "         [5., 6.]], dtype=torch.float64))"
      ]
     },
     "metadata": {},
     "execution_count": 50
    }
   ],
   "source": [
    "shape = (2,2);\n",
    "A = torch.arange(0, np.prod(shape)).reshape(shape).type(torch.DoubleTensor)\n",
    "B = (3+torch.arange(np.prod(shape))).reshape(shape).type(torch.DoubleTensor)\n",
    "A, B"
   ]
  },
  {
   "cell_type": "code",
   "execution_count": 51,
   "metadata": {},
   "outputs": [
    {
     "output_type": "execute_result",
     "data": {
      "text/plain": [
       "(tensor([[3., 5.],\n",
       "         [7., 9.]], dtype=torch.float64),\n",
       " tensor([[-3., -3.],\n",
       "         [-3., -3.]], dtype=torch.float64),\n",
       " tensor([[ 0.,  4.],\n",
       "         [10., 18.]], dtype=torch.float64),\n",
       " tensor([[0.0000, 0.2500],\n",
       "         [0.4000, 0.5000]], dtype=torch.float64))"
      ]
     },
     "metadata": {},
     "execution_count": 51
    }
   ],
   "source": [
    "A+B, A-B, A*B, A/B  # element-wise operations"
   ]
  },
  {
   "source": [
    "## Matrix Inverse"
   ],
   "cell_type": "markdown",
   "metadata": {}
  },
  {
   "cell_type": "code",
   "execution_count": 52,
   "id": "92f64adb",
   "metadata": {},
   "outputs": [
    {
     "output_type": "execute_result",
     "data": {
      "text/plain": [
       "tensor([[-3.5527e-15,  0.0000e+00],\n",
       "        [ 1.7764e-15,  5.3291e-15]], dtype=torch.float64)"
      ]
     },
     "metadata": {},
     "execution_count": 52
    }
   ],
   "source": [
    "# A=BC => C=AB^(-1) => A-CB^(-1)=0\n",
    "C = A @ torch.pinverse(B)  # for square matrices one can use just torch.inverse\n",
    "A - C @ B"
   ]
  },
  {
   "cell_type": "markdown",
   "id": "bc456815",
   "metadata": {},
   "source": [
    "## Size commands"
   ]
  },
  {
   "cell_type": "code",
   "execution_count": 54,
   "id": "8fde87dc",
   "metadata": {},
   "outputs": [],
   "source": [
    "A = torch.rand((3,2))"
   ]
  },
  {
   "cell_type": "code",
   "execution_count": 53,
   "id": "2e3d5eab",
   "metadata": {},
   "outputs": [
    {
     "output_type": "execute_result",
     "data": {
      "text/plain": [
       "(torch.Size([2, 2]), torch.Size([2, 2]), 2, 4)"
      ]
     },
     "metadata": {},
     "execution_count": 53
    }
   ],
   "source": [
    "A.shape, A.size(), A.size(0), A.numel()"
   ]
  },
  {
   "cell_type": "markdown",
   "id": "b49ccae7",
   "metadata": {},
   "source": [
    "## Transpose and Hermitian"
   ]
  },
  {
   "cell_type": "code",
   "execution_count": 55,
   "id": "04699a4a",
   "metadata": {},
   "outputs": [
    {
     "output_type": "execute_result",
     "data": {
      "text/plain": [
       "(tensor([[0.5525+0.7259j, 0.1749+0.2711j],\n",
       "         [0.0225+0.7052j, 0.7661+0.1349j]]),\n",
       " tensor([[0.6725+0.6366j, 0.1626+0.4018j],\n",
       "         [0.4128+0.6438j, 0.0160+0.8131j]]))"
      ]
     },
     "metadata": {},
     "execution_count": 55
    }
   ],
   "source": [
    "shape = (2,2)\n",
    "A = torch.rand(shape) + 1j*torch.rand(shape)  # a random complex matrix\n",
    "B = torch.rand(shape, dtype=torch.cfloat)       # a random complex matrix\n",
    "                                                # (alternative)\n",
    "A, B"
   ]
  },
  {
   "cell_type": "code",
   "execution_count": 56,
   "metadata": {},
   "outputs": [
    {
     "output_type": "execute_result",
     "data": {
      "text/plain": [
       "tensor([[1.1050+0.0000j, 0.1974-0.4340j],\n",
       "        [0.1974+0.4340j, 1.5321+0.0000j]])"
      ]
     },
     "metadata": {},
     "execution_count": 56
    }
   ],
   "source": [
    "H = A + A.conj().T  # Hermitian matrix\n",
    "H"
   ]
  },
  {
   "cell_type": "code",
   "execution_count": 57,
   "id": "ed6a53a5",
   "metadata": {},
   "outputs": [
    {
     "output_type": "execute_result",
     "data": {
      "text/plain": [
       "(tensor([[1.1050+0.0000j, 0.1974+0.4340j],\n",
       "         [0.1974-0.4340j, 1.5321+0.0000j]]),\n",
       " tensor([[1.1050+-0.0000j, 0.1974-0.4340j],\n",
       "         [0.1974+0.4340j, 1.5321+-0.0000j]]))"
      ]
     },
     "metadata": {},
     "execution_count": 57
    }
   ],
   "source": [
    "H.T, H.conj().T  # Hermitian transpose and conj transpose"
   ]
  },
  {
   "cell_type": "code",
   "execution_count": 58,
   "id": "e01e0a1e",
   "metadata": {},
   "outputs": [
    {
     "output_type": "execute_result",
     "data": {
      "text/plain": [
       "tensor([[1.1050+-0.0000j, 0.1974-0.4340j],\n",
       "        [0.1974+0.4340j, 1.5321+-0.0000j]])"
      ]
     },
     "metadata": {},
     "execution_count": 58
    }
   ],
   "source": [
    "H.conj().T  # conjugate transpose"
   ]
  },
  {
   "cell_type": "code",
   "execution_count": 59,
   "id": "6ffa6ec8",
   "metadata": {},
   "outputs": [
    {
     "output_type": "execute_result",
     "data": {
      "text/plain": [
       "-1j"
      ]
     },
     "metadata": {},
     "execution_count": 59
    }
   ],
   "source": [
    "np.conj(1j) # complex conjugation for a number"
   ]
  },
  {
   "cell_type": "markdown",
   "id": "4f854212",
   "metadata": {},
   "source": [
    "## Tensor slicing"
   ]
  },
  {
   "cell_type": "code",
   "execution_count": 62,
   "id": "5aa4a4f2",
   "metadata": {},
   "outputs": [
    {
     "output_type": "execute_result",
     "data": {
      "text/plain": [
       "tensor([[0.9429, 0.1814, 0.5839, 0.5615, 0.9333],\n",
       "        [0.3104, 0.7233, 0.0416, 0.7359, 0.8710],\n",
       "        [0.2497, 0.0947, 0.3995, 0.1085, 0.6504]])"
      ]
     },
     "metadata": {},
     "execution_count": 62
    }
   ],
   "source": [
    "shape = (3,5)\n",
    "A = torch.rand(shape)\n",
    "A"
   ]
  },
  {
   "cell_type": "code",
   "execution_count": 63,
   "id": "a85719ef",
   "metadata": {},
   "outputs": [
    {
     "output_type": "execute_result",
     "data": {
      "text/plain": [
       "tensor(0.7359)"
      ]
     },
     "metadata": {},
     "execution_count": 63
    }
   ],
   "source": [
    "A[1,3]  # element on the 1st row 3rd column"
   ]
  },
  {
   "cell_type": "code",
   "execution_count": 64,
   "id": "12b9e513",
   "metadata": {},
   "outputs": [
    {
     "output_type": "execute_result",
     "data": {
      "text/plain": [
       "tensor([0.5839, 0.0416, 0.3995])"
      ]
     },
     "metadata": {},
     "execution_count": 64
    }
   ],
   "source": [
    "A[:,2]  # elements on the 2nd column"
   ]
  },
  {
   "cell_type": "code",
   "execution_count": 65,
   "id": "ce2aac14",
   "metadata": {},
   "outputs": [
    {
     "output_type": "execute_result",
     "data": {
      "text/plain": [
       "tensor([[0.5839],\n",
       "        [0.0416],\n",
       "        [0.3995]])"
      ]
     },
     "metadata": {},
     "execution_count": 65
    }
   ],
   "source": [
    "A[:,2].reshape(-1,1)  # reshaping to a column vector "
   ]
  },
  {
   "cell_type": "code",
   "execution_count": 66,
   "id": "1ad43c3a",
   "metadata": {},
   "outputs": [
    {
     "output_type": "execute_result",
     "data": {
      "text/plain": [
       "tensor([[0.1814, 0.5839],\n",
       "        [0.7233, 0.0416],\n",
       "        [0.0947, 0.3995]])"
      ]
     },
     "metadata": {},
     "execution_count": 66
    }
   ],
   "source": [
    "A[0:3,1:3]  # first three rows of the second and third columns"
   ]
  },
  {
   "cell_type": "code",
   "execution_count": 67,
   "metadata": {},
   "outputs": [
    {
     "output_type": "execute_result",
     "data": {
      "text/plain": [
       "tensor([[0.9429, 0.1814, 0.5839, 0.5615, 0.9333],\n",
       "        [0.3104, 0.7233, 0.0416, 0.7359, 0.8710],\n",
       "        [0.2497, 0.0947, 0.3995, 0.1085, 0.6504]])"
      ]
     },
     "metadata": {},
     "execution_count": 67
    }
   ],
   "source": [
    "A"
   ]
  },
  {
   "cell_type": "code",
   "execution_count": 68,
   "id": "04e71f1d",
   "metadata": {},
   "outputs": [
    {
     "output_type": "execute_result",
     "data": {
      "text/plain": [
       "tensor([[0.7359, 0.8710],\n",
       "        [0.1085, 0.6504]])"
      ]
     },
     "metadata": {},
     "execution_count": 68
    }
   ],
   "source": [
    "A[-2:,-2:]  # the last two rows and last 2 colums"
   ]
  },
  {
   "cell_type": "code",
   "execution_count": 69,
   "id": "dc37b42b",
   "metadata": {},
   "outputs": [
    {
     "output_type": "execute_result",
     "data": {
      "text/plain": [
       "tensor([[ 0.9429,  0.1814,  0.5839,  0.5615,  0.9333],\n",
       "        [ 0.3104, 10.0000,  0.0416,  0.7359,  0.8710],\n",
       "        [ 0.2497,  0.0947,  0.3995,  0.1085,  0.6504]])"
      ]
     },
     "metadata": {},
     "execution_count": 69
    }
   ],
   "source": [
    "A[1,1] = 10  # reassigning the value\n",
    "A"
   ]
  },
  {
   "cell_type": "code",
   "execution_count": 70,
   "id": "65b4cb9e",
   "metadata": {},
   "outputs": [
    {
     "output_type": "execute_result",
     "data": {
      "text/plain": [
       "tensor([[1.0000, 1.0000, 0.5839, 0.5615, 0.9333],\n",
       "        [1.0000, 1.0000, 0.0416, 0.7359, 0.8710],\n",
       "        [0.2497, 0.0947, 0.3995, 0.1085, 0.6504]])"
      ]
     },
     "metadata": {},
     "execution_count": 70
    }
   ],
   "source": [
    "A[:2,:2] = 1.0  # reassigning multiple values\n",
    "A"
   ]
  },
  {
   "cell_type": "code",
   "execution_count": 71,
   "id": "a36c64a2",
   "metadata": {},
   "outputs": [
    {
     "output_type": "execute_result",
     "data": {
      "text/plain": [
       "tensor([[0., 0., 0., 0., 0.],\n",
       "        [0., 0., 0., 0., 0.],\n",
       "        [0., 0., 0., 0., 0.]])"
      ]
     },
     "metadata": {},
     "execution_count": 71
    }
   ],
   "source": [
    "A[:,:] = 0  # reassigning all values\n",
    "A"
   ]
  },
  {
   "cell_type": "code",
   "execution_count": 72,
   "id": "deb69671",
   "metadata": {},
   "outputs": [
    {
     "output_type": "execute_result",
     "data": {
      "text/plain": [
       "tensor([[0.0276+0.7532j, 0.6545+0.1453j, 0.2124+0.6912j],\n",
       "        [0.9369+0.3774j, 0.8324+0.3773j, 0.0043+0.9230j],\n",
       "        [0.8115+0.1299j, 0.3255+0.5572j, 0.8675+0.7110j]])"
      ]
     },
     "metadata": {},
     "execution_count": 72
    }
   ],
   "source": [
    "A = torch.rand(3,3, dtype=torch.cfloat)\n",
    "A"
   ]
  },
  {
   "cell_type": "code",
   "execution_count": 73,
   "id": "b78ca9df",
   "metadata": {},
   "outputs": [
    {
     "output_type": "execute_result",
     "data": {
      "text/plain": [
       "tensor([0.0276+0.7532j, 0.6545+0.1453j, 0.2124+0.6912j])"
      ]
     },
     "metadata": {},
     "execution_count": 73
    }
   ],
   "source": [
    "A[0]  # linear index"
   ]
  },
  {
   "cell_type": "code",
   "execution_count": 74,
   "id": "5ac011bb",
   "metadata": {},
   "outputs": [
    {
     "output_type": "execute_result",
     "data": {
      "text/plain": [
       "tensor([[[0.0338, 0.1243, 0.7369],\n",
       "         [0.1481, 0.0515, 0.7567]],\n",
       "\n",
       "        [[0.1946, 0.1889, 0.3952],\n",
       "         [0.2636, 0.3091, 0.3420]],\n",
       "\n",
       "        [[0.3475, 0.6656, 0.4929],\n",
       "         [0.6536, 0.5055, 0.6471]]])"
      ]
     },
     "metadata": {},
     "execution_count": 74
    }
   ],
   "source": [
    "shape = (3,2,3)\n",
    "A = torch.rand(shape)\n",
    "A"
   ]
  },
  {
   "cell_type": "code",
   "execution_count": 75,
   "id": "4437b8f4",
   "metadata": {},
   "outputs": [
    {
     "output_type": "execute_result",
     "data": {
      "text/plain": [
       "tensor([[0.0338, 0.1243, 0.7369],\n",
       "        [0.1481, 0.0515, 0.7567]])"
      ]
     },
     "metadata": {},
     "execution_count": 75
    }
   ],
   "source": [
    "A[0]  # consistency for the multidimnsional array"
   ]
  },
  {
   "cell_type": "markdown",
   "id": "be9309df",
   "metadata": {},
   "source": [
    "## Reshape and permute matrices"
   ]
  },
  {
   "cell_type": "code",
   "execution_count": 76,
   "id": "ed8a20ba",
   "metadata": {},
   "outputs": [
    {
     "output_type": "execute_result",
     "data": {
      "text/plain": [
       "tensor([0, 1, 2, 3, 4, 5])"
      ]
     },
     "metadata": {},
     "execution_count": 76
    }
   ],
   "source": [
    "A = torch.arange(6)\n",
    "A"
   ]
  },
  {
   "cell_type": "code",
   "execution_count": 77,
   "id": "05a1c5f6",
   "metadata": {},
   "outputs": [
    {
     "output_type": "execute_result",
     "data": {
      "text/plain": [
       "tensor([[0, 1],\n",
       "        [2, 3],\n",
       "        [4, 5]])"
      ]
     },
     "metadata": {},
     "execution_count": 77
    }
   ],
   "source": [
    "B = A.reshape(3,2)\n",
    "B"
   ]
  },
  {
   "cell_type": "code",
   "execution_count": 78,
   "id": "3f70c8ec",
   "metadata": {},
   "outputs": [
    {
     "output_type": "execute_result",
     "data": {
      "text/plain": [
       "tensor([[0, 2, 4],\n",
       "        [1, 3, 5]])"
      ]
     },
     "metadata": {},
     "execution_count": 78
    }
   ],
   "source": [
    "B.permute(1,0)  # same as transpose for matrices"
   ]
  },
  {
   "cell_type": "markdown",
   "id": "c16818f8",
   "metadata": {},
   "source": [
    "## Sum and product"
   ]
  },
  {
   "cell_type": "code",
   "execution_count": 79,
   "id": "afa0b3d6",
   "metadata": {},
   "outputs": [
    {
     "output_type": "execute_result",
     "data": {
      "text/plain": [
       "(tensor([1, 2, 3, 4, 5, 6, 7, 8, 9]), tensor(45), tensor(362880))"
      ]
     },
     "metadata": {},
     "execution_count": 79
    }
   ],
   "source": [
    "A = torch.arange(1,10)\n",
    "A, A.sum(), A.prod()"
   ]
  },
  {
   "cell_type": "code",
   "execution_count": 80,
   "id": "9ae20ed6",
   "metadata": {},
   "outputs": [
    {
     "output_type": "execute_result",
     "data": {
      "text/plain": [
       "(tensor([[1, 2, 3],\n",
       "         [4, 5, 6],\n",
       "         [7, 8, 9]]),\n",
       " tensor([12, 15, 18]),\n",
       " tensor([ 6, 15, 24]))"
      ]
     },
     "metadata": {},
     "execution_count": 80
    }
   ],
   "source": [
    "A = A.reshape(3,3)\n",
    "A, A.sum(0), A.sum(1)  # summing along a specific dimension"
   ]
  },
  {
   "cell_type": "code",
   "execution_count": 81,
   "id": "7881742e",
   "metadata": {},
   "outputs": [
    {
     "output_type": "execute_result",
     "data": {
      "text/plain": [
       "(tensor([[1, 2, 3],\n",
       "         [4, 5, 6],\n",
       "         [7, 8, 9]]),\n",
       " tensor([ 28,  80, 162]),\n",
       " tensor([  6, 120, 504]))"
      ]
     },
     "metadata": {},
     "execution_count": 81
    }
   ],
   "source": [
    "A, A.prod(0), A.prod(1)  # product of all the elements"
   ]
  },
  {
   "cell_type": "markdown",
   "id": "d67afee8",
   "metadata": {},
   "source": [
    "## Eigenvalues and eigenvectors"
   ]
  },
  {
   "cell_type": "code",
   "execution_count": 83,
   "metadata": {},
   "outputs": [],
   "source": [
    "def is_hermitian(A):\n",
    "    if A.shape[0]==A.shape[1]:\n",
    "        return torch.allclose(A, A.conj().T)\n",
    "    else:\n",
    "        return False"
   ]
  },
  {
   "cell_type": "code",
   "execution_count": 85,
   "id": "345af770",
   "metadata": {},
   "outputs": [
    {
     "output_type": "execute_result",
     "data": {
      "text/plain": [
       "(tensor([[1.5560+0.0000j, 1.1070+0.0070j],\n",
       "         [1.1070-0.0070j, 0.1139+0.0000j]], dtype=torch.complex128),\n",
       " True)"
      ]
     },
     "metadata": {},
     "execution_count": 85
    }
   ],
   "source": [
    "shape = (2,2)\n",
    "A = torch.rand(shape, dtype=torch.complex128)\n",
    "A = (A + A.conj().T)  # Hermitian\n",
    "A, is_hermitian(A)"
   ]
  },
  {
   "cell_type": "code",
   "execution_count": 86,
   "id": "6d52470f",
   "metadata": {},
   "outputs": [
    {
     "output_type": "execute_result",
     "data": {
      "text/plain": [
       "(tensor([-0.4862,  2.1561], dtype=torch.float64),\n",
       " tensor([[-0.4766+-0.0000j, -0.8791+0.0000j],\n",
       "         [ 0.8791-0.0056j, -0.4766+0.0030j]], dtype=torch.complex128))"
      ]
     },
     "metadata": {},
     "execution_count": 86
    }
   ],
   "source": [
    "D, V = torch.linalg.eigh(A)  # eigenvalues and eigenvectors\n",
    "D, V"
   ]
  },
  {
   "cell_type": "code",
   "execution_count": 87,
   "metadata": {},
   "outputs": [
    {
     "output_type": "execute_result",
     "data": {
      "text/plain": [
       "True"
      ]
     },
     "metadata": {},
     "execution_count": 87
    }
   ],
   "source": [
    "B = V @ D.to(V.dtype).diag() @ V.conj().T\n",
    "torch.allclose(B, A)  # should be close to the original"
   ]
  },
  {
   "cell_type": "code",
   "execution_count": 61,
   "id": "7d091772",
   "metadata": {},
   "outputs": [
    {
     "output_type": "execute_result",
     "data": {
      "text/plain": [
       "True"
      ]
     },
     "metadata": {},
     "execution_count": 61
    }
   ],
   "source": [
    "B = V.conj().T @ V # left unitarity\n",
    "torch.allclose(B, torch.eye(B.shape[0], dtype=torch.complex128))"
   ]
  },
  {
   "cell_type": "markdown",
   "id": "31099109",
   "metadata": {},
   "source": [
    "## Singular value decomposition"
   ]
  },
  {
   "cell_type": "code",
   "execution_count": 88,
   "id": "1547653d",
   "metadata": {},
   "outputs": [
    {
     "output_type": "execute_result",
     "data": {
      "text/plain": [
       "(tensor([[0.3045+0.0493j, 0.0741+0.9620j],\n",
       "         [0.7902+0.8593j, 0.0912+0.8819j],\n",
       "         [0.9870+0.0044j, 0.4259+0.9860j]], dtype=torch.complex128),\n",
       " False)"
      ]
     },
     "metadata": {},
     "execution_count": 88
    }
   ],
   "source": [
    "shape = (3,2)\n",
    "A = torch.rand(shape, dtype=torch.complex128)  # non-Hermitian \n",
    "A, is_hermitian(A)"
   ]
  },
  {
   "cell_type": "code",
   "execution_count": 99,
   "id": "c0dee812",
   "metadata": {},
   "outputs": [
    {
     "output_type": "execute_result",
     "data": {
      "text/plain": [
       "(tensor([[-0.5112-2.7459e-01j,  0.3585-2.3117e-01j, -0.1850+6.4428e-01j],\n",
       "         [-0.4329-3.0769e-01j,  0.4065+2.4439e-01j,  0.4923-4.9339e-01j],\n",
       "         [-0.3337-1.8159e-04j, -0.4809+1.5086e-02j, -0.0708-7.7650e-02j],\n",
       "         [-0.4361-2.8215e-01j, -0.5816+1.5286e-01j, -0.2053-1.0804e-01j]],\n",
       "        dtype=torch.complex128),\n",
       " tensor([3.0349, 0.5047, 0.3210], dtype=torch.float64),\n",
       " tensor([[-0.3979+0.0000j, -0.6488-0.0208j, -0.6214-0.1845j],\n",
       "         [ 0.7160+0.0000j,  0.2222-0.0122j, -0.6396-0.1698j],\n",
       "         [-0.5736+0.0000j,  0.7274-0.0008j, -0.3672-0.0839j]],\n",
       "        dtype=torch.complex128))"
      ]
     },
     "metadata": {},
     "execution_count": 99
    }
   ],
   "source": [
    "U,S,Vh = torch.linalg.svd(A, full_matrices=False)  #  SVD\n",
    "U, S, Vh"
   ]
  },
  {
   "cell_type": "code",
   "execution_count": 90,
   "id": "fe1f176b",
   "metadata": {},
   "outputs": [
    {
     "output_type": "execute_result",
     "data": {
      "text/plain": [
       "True"
      ]
     },
     "metadata": {},
     "execution_count": 90
    }
   ],
   "source": [
    "torch.allclose(U @ S.to(U.dtype).diag() @ Vh, A)  # should be zero up to numerical precision"
   ]
  },
  {
   "cell_type": "code",
   "execution_count": 91,
   "id": "fe85b7cd",
   "metadata": {},
   "outputs": [
    {
     "output_type": "execute_result",
     "data": {
      "text/plain": [
       "True"
      ]
     },
     "metadata": {},
     "execution_count": 91
    }
   ],
   "source": [
    "torch.allclose(U.conj().T @ U, torch.eye(U.shape[1], dtype=torch.complex128))  # identity"
   ]
  },
  {
   "cell_type": "code",
   "execution_count": 92,
   "id": "6c9ca36b",
   "metadata": {},
   "outputs": [
    {
     "output_type": "execute_result",
     "data": {
      "text/plain": [
       "True"
      ]
     },
     "metadata": {},
     "execution_count": 92
    }
   ],
   "source": [
    "torch.allclose(Vh @ Vh.conj().T, torch.eye(Vh.shape[0], dtype=torch.complex128))  # identity"
   ]
  },
  {
   "cell_type": "markdown",
   "id": "3bf3db68",
   "metadata": {},
   "source": [
    "## QR decomposition"
   ]
  },
  {
   "cell_type": "code",
   "execution_count": 93,
   "id": "421b30cf",
   "metadata": {},
   "outputs": [],
   "source": [
    "shape = (4,3)\n",
    "A = torch.rand(shape, dtype=torch.complex128)"
   ]
  },
  {
   "cell_type": "code",
   "execution_count": 94,
   "id": "be4594c5",
   "metadata": {},
   "outputs": [],
   "source": [
    "Q,R = torch.linalg.qr(A, mode='reduced')  # A=Q*R. Default mode is 'reduced'"
   ]
  },
  {
   "cell_type": "code",
   "execution_count": 100,
   "id": "930b9098",
   "metadata": {},
   "outputs": [
    {
     "output_type": "execute_result",
     "data": {
      "text/plain": [
       "(tensor([[-0.6131-0.1016j,  0.2226-0.6874j,  0.0362+0.2420j],\n",
       "         [-0.4545-0.4323j, -0.2522+0.4236j,  0.5952-0.0444j],\n",
       "         [-0.1902-0.0157j, -0.3406+0.0472j, -0.4195-0.1525j],\n",
       "         [-0.2781-0.3264j, -0.3348+0.0676j, -0.6021-0.1486j]],\n",
       "        dtype=torch.complex128),\n",
       " tensor([[-1.2739+0.0000j, -1.8647-0.0582j, -1.7133-0.5105j],\n",
       "         [ 0.0000+0.0000j, -0.6841+0.0000j, -0.6744-0.1659j],\n",
       "         [ 0.0000+0.0000j,  0.0000+0.0000j, -0.5642+0.0000j]],\n",
       "        dtype=torch.complex128))"
      ]
     },
     "metadata": {},
     "execution_count": 100
    }
   ],
   "source": [
    "Q, R"
   ]
  },
  {
   "cell_type": "code",
   "execution_count": 101,
   "id": "4198c6f0",
   "metadata": {},
   "outputs": [
    {
     "output_type": "execute_result",
     "data": {
      "text/plain": [
       "True"
      ]
     },
     "metadata": {},
     "execution_count": 101
    }
   ],
   "source": [
    "torch.allclose(Q @ R, A)  # close to zero"
   ]
  },
  {
   "cell_type": "code",
   "execution_count": 102,
   "metadata": {},
   "outputs": [
    {
     "output_type": "execute_result",
     "data": {
      "text/plain": [
       "tensor([[ 0.3919+0.7051j,  0.2722+0.4021j, -0.0910-0.1157j],\n",
       "        [ 0.2722+0.4021j, -0.3174-0.5971j,  0.4048+0.3335j],\n",
       "        [-0.0910-0.1157j,  0.4048+0.3335j,  0.7882+0.2716j]],\n",
       "       dtype=torch.complex128)"
      ]
     },
     "metadata": {},
     "execution_count": 102
    }
   ],
   "source": [
    "Q.T @ Q"
   ]
  },
  {
   "cell_type": "code",
   "execution_count": 103,
   "id": "a8813522",
   "metadata": {},
   "outputs": [
    {
     "output_type": "execute_result",
     "data": {
      "text/plain": [
       "True"
      ]
     },
     "metadata": {},
     "execution_count": 103
    }
   ],
   "source": [
    "torch.allclose(Q.conj().T @ Q, torch.eye(Q.shape[1], dtype=torch.complex128))"
   ]
  },
  {
   "cell_type": "markdown",
   "id": "0dcfcbb5",
   "metadata": {},
   "source": [
    "## Time counter"
   ]
  },
  {
   "cell_type": "code",
   "execution_count": 104,
   "id": "8b29be68",
   "metadata": {},
   "outputs": [],
   "source": [
    "from timeit import default_timer as timer"
   ]
  },
  {
   "cell_type": "code",
   "execution_count": 107,
   "id": "cc5e4b0e",
   "metadata": {},
   "outputs": [
    {
     "output_type": "execute_result",
     "data": {
      "text/plain": [
       "0.0005266590000019278"
      ]
     },
     "metadata": {},
     "execution_count": 107
    }
   ],
   "source": [
    "start = timer()\n",
    "A = torch.rand(size=(10,10)) @ torch.rand(size=(10,10))\n",
    "timer()-start"
   ]
  },
  {
   "cell_type": "markdown",
   "id": "a8d476b0",
   "metadata": {},
   "source": [
    "## Masked selection"
   ]
  },
  {
   "cell_type": "code",
   "execution_count": 108,
   "metadata": {},
   "outputs": [
    {
     "output_type": "execute_result",
     "data": {
      "text/plain": [
       "tensor([[0.7499, 0.3097, 0.6786],\n",
       "        [0.3739, 0.8280, 0.5729],\n",
       "        [0.7549, 0.3841, 0.7998],\n",
       "        [0.0834, 0.6908, 0.3372]])"
      ]
     },
     "metadata": {},
     "execution_count": 108
    }
   ],
   "source": [
    "shape = (4,3)\n",
    "A = torch.rand(shape)\n",
    "A"
   ]
  },
  {
   "cell_type": "code",
   "execution_count": 109,
   "metadata": {},
   "outputs": [
    {
     "output_type": "execute_result",
     "data": {
      "text/plain": [
       "tensor([0.0834])"
      ]
     },
     "metadata": {},
     "execution_count": 109
    }
   ],
   "source": [
    "A.masked_select(A<0.2)  # return only the values that are < 0.2"
   ]
  },
  {
   "cell_type": "code",
   "execution_count": 110,
   "id": "1c6ec5ab",
   "metadata": {},
   "outputs": [
    {
     "output_type": "execute_result",
     "data": {
      "text/plain": [
       "(tensor([[False, False, False],\n",
       "         [False, False, False],\n",
       "         [False, False, False],\n",
       "         [ True, False, False]]),\n",
       " tensor([0.0834]))"
      ]
     },
     "metadata": {},
     "execution_count": 110
    }
   ],
   "source": [
    "mask = A.le(0.2)  # alternatively, create a mask as select\n",
    "mask, A.masked_select(mask)"
   ]
  },
  {
   "cell_type": "code",
   "execution_count": null,
   "id": "84d15d04",
   "metadata": {},
   "outputs": [],
   "source": []
  }
 ],
 "metadata": {
  "kernelspec": {
   "display_name": "Python 3",
   "language": "python",
   "name": "python3"
  },
  "language_info": {
   "codemirror_mode": {
    "name": "ipython",
    "version": 3
   },
   "file_extension": ".py",
   "mimetype": "text/x-python",
   "name": "python",
   "nbconvert_exporter": "python",
   "pygments_lexer": "ipython3",
   "version": "3.8.5"
  }
 },
 "nbformat": 4,
 "nbformat_minor": 5
}