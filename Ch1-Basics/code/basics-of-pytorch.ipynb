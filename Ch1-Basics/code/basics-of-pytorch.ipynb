{
 "cells": [
  {
   "source": [
    "# Basics of PyTorch"
   ],
   "cell_type": "markdown",
   "metadata": {}
  },
  {
   "cell_type": "markdown",
   "id": "00441916",
   "metadata": {},
   "source": [
    "## Import the dependencies"
   ]
  },
  {
   "cell_type": "code",
   "execution_count": 1,
   "id": "1023682c",
   "metadata": {},
   "outputs": [],
   "source": [
    "import random\n",
    "import numpy as np\n",
    "import torch"
   ]
  },
  {
   "source": [
    "## Set the seed for reproducibility"
   ],
   "cell_type": "markdown",
   "metadata": {}
  },
  {
   "cell_type": "code",
   "execution_count": 2,
   "metadata": {},
   "outputs": [],
   "source": [
    "def set_seed(seed: int):\n",
    "    random.seed(seed)\n",
    "    np.random.seed(seed)\n",
    "    torch.manual_seed(seed)\n",
    "    torch.cuda.manual_seed(seed)\n",
    "    torch.backends.cudnn.deterministic = True\n",
    "    torch.backends.cudnn.benchmark = True"
   ]
  },
  {
   "cell_type": "code",
   "execution_count": 3,
   "metadata": {},
   "outputs": [],
   "source": [
    "set_seed(31415)"
   ]
  },
  {
   "cell_type": "markdown",
   "id": "dad9d393",
   "metadata": {},
   "source": [
    "## Elementary algebra"
   ]
  },
  {
   "cell_type": "code",
   "execution_count": 4,
   "id": "ddbed8d1",
   "metadata": {},
   "outputs": [
    {
     "output_type": "stream",
     "name": "stdout",
     "text": [
      "3.5 -1.5 2.5 0.4\n"
     ]
    }
   ],
   "source": [
    "A=1; B=2.5\n",
    "print(A+B, A-B, A*B, A/B)"
   ]
  },
  {
   "cell_type": "markdown",
   "id": "ab437c28",
   "metadata": {},
   "source": [
    "## Constants"
   ]
  },
  {
   "cell_type": "code",
   "execution_count": 5,
   "id": "fdb2eb33",
   "metadata": {},
   "outputs": [
    {
     "output_type": "execute_result",
     "data": {
      "text/plain": [
       "(1j, 2.718281828459045, 2.718281828459045, 3.141592653589793, inf)"
      ]
     },
     "metadata": {},
     "execution_count": 5
    }
   ],
   "source": [
    "1j, np.e, np.exp(1), np.pi, np.inf"
   ]
  },
  {
   "source": [
    "## Prohibited epressions"
   ],
   "cell_type": "markdown",
   "metadata": {}
  },
  {
   "cell_type": "code",
   "execution_count": 6,
   "metadata": {},
   "outputs": [],
   "source": [
    "expressions = ['1/0','-1/0','0/0']\n",
    "for e in expressions:\n",
    "    try:\n",
    "        eval(e)    \n",
    "    except ZeroDivisionError:\n",
    "        pass\n",
    "    else:\n",
    "        raise NotImplementedError('Should not be here!')"
   ]
  },
  {
   "cell_type": "markdown",
   "id": "86ca3dfd",
   "metadata": {},
   "source": [
    "## Vectors and matrices in PyTorch"
   ]
  },
  {
   "cell_type": "code",
   "execution_count": 7,
   "id": "3c02ba97",
   "metadata": {},
   "outputs": [
    {
     "output_type": "execute_result",
     "data": {
      "text/plain": [
       "tensor([1, 2, 3])"
      ]
     },
     "metadata": {},
     "execution_count": 7
    }
   ],
   "source": [
    "torch.tensor([1,2,3])  # row vector"
   ]
  },
  {
   "cell_type": "code",
   "execution_count": 8,
   "id": "5e803407",
   "metadata": {},
   "outputs": [
    {
     "output_type": "execute_result",
     "data": {
      "text/plain": [
       "tensor([[1],\n",
       "        [2],\n",
       "        [3]])"
      ]
     },
     "metadata": {},
     "execution_count": 8
    }
   ],
   "source": [
    "torch.tensor([[1],[2],[3]])  # column vector"
   ]
  },
  {
   "cell_type": "code",
   "execution_count": 9,
   "id": "6dd5a5d4",
   "metadata": {},
   "outputs": [
    {
     "output_type": "execute_result",
     "data": {
      "text/plain": [
       "tensor([[1],\n",
       "        [2],\n",
       "        [3]])"
      ]
     },
     "metadata": {},
     "execution_count": 9
    }
   ],
   "source": [
    "torch.tensor([1,2,3]).reshape(3,1)  # column vector from the row vector"
   ]
  },
  {
   "cell_type": "code",
   "execution_count": 10,
   "metadata": {},
   "outputs": [
    {
     "output_type": "execute_result",
     "data": {
      "text/plain": [
       "tensor([[1],\n",
       "        [2],\n",
       "        [3]])"
      ]
     },
     "metadata": {},
     "execution_count": 10
    }
   ],
   "source": [
    "torch.tensor([1,2,3]).reshape(3,-1)  # exectly the same as above, \n",
    "                                     # but the last dimension is infered"
   ]
  },
  {
   "cell_type": "code",
   "execution_count": 11,
   "id": "3078ed84",
   "metadata": {},
   "outputs": [
    {
     "output_type": "execute_result",
     "data": {
      "text/plain": [
       "tensor([[1, 2],\n",
       "        [3, 4]])"
      ]
     },
     "metadata": {},
     "execution_count": 11
    }
   ],
   "source": [
    "torch.tensor([[1,2],[3,4]])  # a matrix"
   ]
  },
  {
   "cell_type": "code",
   "execution_count": 12,
   "id": "2dfec833",
   "metadata": {},
   "outputs": [
    {
     "output_type": "execute_result",
     "data": {
      "text/plain": [
       "tensor([1, 2])"
      ]
     },
     "metadata": {},
     "execution_count": 12
    }
   ],
   "source": [
    "torch.arange(1,3)  # a range, values on the interval [1,3)"
   ]
  },
  {
   "cell_type": "code",
   "execution_count": 13,
   "id": "ae5e5af8",
   "metadata": {},
   "outputs": [
    {
     "output_type": "execute_result",
     "data": {
      "text/plain": [
       "tensor([ 1,  4,  7, 10])"
      ]
     },
     "metadata": {},
     "execution_count": 13
    }
   ],
   "source": [
    "torch.arange(1,11,step=3)  # a range, but with a step size "
   ]
  },
  {
   "cell_type": "code",
   "execution_count": 14,
   "id": "06cf2fc6",
   "metadata": {},
   "outputs": [
    {
     "output_type": "execute_result",
     "data": {
      "text/plain": [
       "tensor([ 1, -2, -5, -8])"
      ]
     },
     "metadata": {},
     "execution_count": 14
    }
   ],
   "source": [
    "torch.arange(1,-10,step=-3)  # a reverse range"
   ]
  },
  {
   "cell_type": "code",
   "execution_count": 15,
   "id": "3b306e70",
   "metadata": {},
   "outputs": [
    {
     "output_type": "execute_result",
     "data": {
      "text/plain": [
       "tensor([[0.3296, 0.2113],\n",
       "        [0.8446, 0.9235],\n",
       "        [0.5002, 0.4071]])"
      ]
     },
     "metadata": {},
     "execution_count": 15
    }
   ],
   "source": [
    "torch.rand(size=(3,2))   # a random matix"
   ]
  },
  {
   "cell_type": "code",
   "execution_count": 16,
   "id": "69da0d3c",
   "metadata": {},
   "outputs": [
    {
     "output_type": "execute_result",
     "data": {
      "text/plain": [
       "tensor([[1., 1.],\n",
       "        [1., 1.],\n",
       "        [1., 1.]])"
      ]
     },
     "metadata": {},
     "execution_count": 16
    }
   ],
   "source": [
    "torch.ones(size=(3, 2))   # a matrix of all ones"
   ]
  },
  {
   "cell_type": "code",
   "execution_count": 17,
   "id": "0bc33f31",
   "metadata": {},
   "outputs": [
    {
     "output_type": "execute_result",
     "data": {
      "text/plain": [
       "tensor([[0., 0.],\n",
       "        [0., 0.],\n",
       "        [0., 0.]])"
      ]
     },
     "metadata": {},
     "execution_count": 17
    }
   ],
   "source": [
    "torch.zeros(size=(3, 2))   # a matrix of all zeros"
   ]
  },
  {
   "cell_type": "code",
   "execution_count": 18,
   "id": "4c100435",
   "metadata": {},
   "outputs": [
    {
     "output_type": "execute_result",
     "data": {
      "text/plain": [
       "tensor([[1., 0., 0.],\n",
       "        [0., 1., 0.],\n",
       "        [0., 0., 1.]])"
      ]
     },
     "metadata": {},
     "execution_count": 18
    }
   ],
   "source": [
    "torch.eye(3)  # identity matrix"
   ]
  },
  {
   "cell_type": "code",
   "execution_count": 19,
   "metadata": {},
   "outputs": [
    {
     "output_type": "execute_result",
     "data": {
      "text/plain": [
       "tensor([[1., 0.],\n",
       "        [0., 1.],\n",
       "        [0., 0.],\n",
       "        [0., 0.]])"
      ]
     },
     "metadata": {},
     "execution_count": 19
    }
   ],
   "source": [
    "torch.eye(4,2)  # non-square \"identity\""
   ]
  },
  {
   "cell_type": "code",
   "execution_count": 20,
   "id": "9551c930",
   "metadata": {},
   "outputs": [
    {
     "output_type": "execute_result",
     "data": {
      "text/plain": [
       "tensor([0.5099, 0.4392, 0.7209])"
      ]
     },
     "metadata": {},
     "execution_count": 20
    }
   ],
   "source": [
    "torch.rand(3)   # a random vector"
   ]
  },
  {
   "cell_type": "code",
   "execution_count": 21,
   "id": "a277d698",
   "metadata": {},
   "outputs": [
    {
     "output_type": "execute_result",
     "data": {
      "text/plain": [
       "tensor([1., 1., 1.])"
      ]
     },
     "metadata": {},
     "execution_count": 21
    }
   ],
   "source": [
    "torch.ones(3)   # a vector of ones"
   ]
  },
  {
   "cell_type": "code",
   "execution_count": 22,
   "id": "3570208f",
   "metadata": {},
   "outputs": [
    {
     "output_type": "execute_result",
     "data": {
      "text/plain": [
       "tensor([0., 0., 0.])"
      ]
     },
     "metadata": {},
     "execution_count": 22
    }
   ],
   "source": [
    "torch.zeros(3)  # a vector of zeros"
   ]
  },
  {
   "cell_type": "code",
   "execution_count": 23,
   "id": "e17bbc7d",
   "metadata": {},
   "outputs": [
    {
     "output_type": "execute_result",
     "data": {
      "text/plain": [
       "tensor([[[ 0,  1,  2],\n",
       "         [ 3,  4,  5]],\n",
       "\n",
       "        [[ 6,  7,  8],\n",
       "         [ 9, 10, 11]],\n",
       "\n",
       "        [[12, 13, 14],\n",
       "         [15, 16, 17]]])"
      ]
     },
     "metadata": {},
     "execution_count": 23
    }
   ],
   "source": [
    "shape = (3,2,3)  # shape of a tensor\n",
    "A = torch.arange(np.prod(shape)).reshape(shape) # an order-3 tensor of shape (3,2,3)\n",
    "A"
   ]
  },
  {
   "cell_type": "code",
   "execution_count": 24,
   "id": "4df8612b",
   "metadata": {},
   "outputs": [
    {
     "output_type": "execute_result",
     "data": {
      "text/plain": [
       "tensor([[0, 1, 2],\n",
       "        [3, 4, 5]])"
      ]
     },
     "metadata": {},
     "execution_count": 24
    }
   ],
   "source": [
    "A[0,:,:]  # a slice of the tensor above"
   ]
  },
  {
   "cell_type": "code",
   "execution_count": 25,
   "id": "9b678a3e",
   "metadata": {},
   "outputs": [
    {
     "output_type": "execute_result",
     "data": {
      "text/plain": [
       "tensor([[ 0,  1,  2],\n",
       "        [ 6,  7,  8],\n",
       "        [12, 13, 14]])"
      ]
     },
     "metadata": {},
     "execution_count": 25
    }
   ],
   "source": [
    "A[:,0,:]"
   ]
  },
  {
   "cell_type": "code",
   "execution_count": 26,
   "metadata": {},
   "outputs": [
    {
     "output_type": "execute_result",
     "data": {
      "text/plain": [
       "tensor([[ 0,  3],\n",
       "        [ 6,  9],\n",
       "        [12, 15]])"
      ]
     },
     "metadata": {},
     "execution_count": 26
    }
   ],
   "source": [
    "A[:,:,0]"
   ]
  },
  {
   "cell_type": "markdown",
   "id": "afb3e527",
   "metadata": {},
   "source": [
    "## Matrix operations"
   ]
  },
  {
   "cell_type": "code",
   "execution_count": 27,
   "id": "e786f5e6",
   "metadata": {},
   "outputs": [],
   "source": [
    "A = torch.rand((3,2)); B = torch.rand((2,4))"
   ]
  },
  {
   "cell_type": "code",
   "execution_count": 28,
   "id": "4a4d71b6",
   "metadata": {},
   "outputs": [
    {
     "output_type": "execute_result",
     "data": {
      "text/plain": [
       "tensor([[0.0908, 0.1058, 0.8519, 0.7139],\n",
       "        [0.0722, 0.1007, 0.6356, 0.5250],\n",
       "        [0.1219, 0.1782, 1.0526, 0.8653]])"
      ]
     },
     "metadata": {},
     "execution_count": 28
    }
   ],
   "source": [
    "A @ B  # matrix multiplication"
   ]
  },
  {
   "cell_type": "code",
   "execution_count": 29,
   "id": "3b4d3531",
   "metadata": {},
   "outputs": [
    {
     "output_type": "execute_result",
     "data": {
      "text/plain": [
       "(tensor([[0., 1.],\n",
       "         [2., 3.]], dtype=torch.float64),\n",
       " tensor([[3., 4.],\n",
       "         [5., 6.]], dtype=torch.float64))"
      ]
     },
     "metadata": {},
     "execution_count": 29
    }
   ],
   "source": [
    "shape = (2,2);\n",
    "A = torch.arange(0, np.prod(shape)).reshape(shape).type(torch.DoubleTensor)\n",
    "B = (3+torch.arange(np.prod(shape))).reshape(shape).type(torch.DoubleTensor)\n",
    "A, B"
   ]
  },
  {
   "cell_type": "code",
   "execution_count": 30,
   "metadata": {},
   "outputs": [
    {
     "output_type": "execute_result",
     "data": {
      "text/plain": [
       "(tensor([[3., 5.],\n",
       "         [7., 9.]], dtype=torch.float64),\n",
       " tensor([[-3., -3.],\n",
       "         [-3., -3.]], dtype=torch.float64),\n",
       " tensor([[ 0.,  4.],\n",
       "         [10., 18.]], dtype=torch.float64),\n",
       " tensor([[0.0000, 0.2500],\n",
       "         [0.4000, 0.5000]], dtype=torch.float64))"
      ]
     },
     "metadata": {},
     "execution_count": 30
    }
   ],
   "source": [
    "A+B, A-B, A*B, A/B  # element-wise operations"
   ]
  },
  {
   "source": [
    "## Matrix Inverse"
   ],
   "cell_type": "markdown",
   "metadata": {}
  },
  {
   "cell_type": "code",
   "execution_count": 31,
   "id": "92f64adb",
   "metadata": {},
   "outputs": [
    {
     "output_type": "execute_result",
     "data": {
      "text/plain": [
       "tensor([[-3.5527e-15,  0.0000e+00],\n",
       "        [ 1.7764e-15,  5.3291e-15]], dtype=torch.float64)"
      ]
     },
     "metadata": {},
     "execution_count": 31
    }
   ],
   "source": [
    "# A=BC => C=AB^(-1) => A-CB^(-1)=0\n",
    "C = A @ torch.pinverse(B)  # for square matrices one can use just torch.inverse\n",
    "A - C @ B"
   ]
  },
  {
   "cell_type": "markdown",
   "id": "bc456815",
   "metadata": {},
   "source": [
    "## Size commands"
   ]
  },
  {
   "cell_type": "code",
   "execution_count": 32,
   "id": "8fde87dc",
   "metadata": {},
   "outputs": [],
   "source": [
    "A = torch.rand((3,2))"
   ]
  },
  {
   "cell_type": "code",
   "execution_count": 33,
   "id": "2e3d5eab",
   "metadata": {},
   "outputs": [
    {
     "output_type": "execute_result",
     "data": {
      "text/plain": [
       "(torch.Size([3, 2]), torch.Size([3, 2]), 3, 6)"
      ]
     },
     "metadata": {},
     "execution_count": 33
    }
   ],
   "source": [
    "A.shape, A.size(), A.size(0), A.numel()"
   ]
  },
  {
   "cell_type": "markdown",
   "id": "b49ccae7",
   "metadata": {},
   "source": [
    "## Transpose and Hermitian"
   ]
  },
  {
   "cell_type": "code",
   "execution_count": 34,
   "id": "04699a4a",
   "metadata": {},
   "outputs": [
    {
     "output_type": "execute_result",
     "data": {
      "text/plain": [
       "(tensor([[0.5617+0.4708j, 0.2980+0.8029j],\n",
       "         [0.0865+0.7965j, 0.0658+0.0790j]]),\n",
       " tensor([[0.2839+0.1560j, 0.0029+0.4112j],\n",
       "         [0.7281+0.9481j, 0.5525+0.1749j]]))"
      ]
     },
     "metadata": {},
     "execution_count": 34
    }
   ],
   "source": [
    "shape = (2,2)\n",
    "A = torch.rand(shape) + 1j*torch.rand(shape)  # a random complex matrix\n",
    "B = torch.rand(shape, dtype=torch.cfloat)       # a random complex matrix\n",
    "                                                # (alternative)\n",
    "A, B"
   ]
  },
  {
   "cell_type": "code",
   "execution_count": 35,
   "metadata": {},
   "outputs": [
    {
     "output_type": "execute_result",
     "data": {
      "text/plain": [
       "tensor([[1.1234+0.0000j, 0.3846+0.0064j],\n",
       "        [0.3846-0.0064j, 0.1317+0.0000j]])"
      ]
     },
     "metadata": {},
     "execution_count": 35
    }
   ],
   "source": [
    "H = A + A.conj().T  # Hermitian matrix\n",
    "H"
   ]
  },
  {
   "cell_type": "code",
   "execution_count": 36,
   "id": "ed6a53a5",
   "metadata": {},
   "outputs": [
    {
     "output_type": "execute_result",
     "data": {
      "text/plain": [
       "(tensor([[1.1234+0.0000j, 0.3846-0.0064j],\n",
       "         [0.3846+0.0064j, 0.1317+0.0000j]]),\n",
       " tensor([[1.1234+-0.0000j, 0.3846+0.0064j],\n",
       "         [0.3846-0.0064j, 0.1317+-0.0000j]]))"
      ]
     },
     "metadata": {},
     "execution_count": 36
    }
   ],
   "source": [
    "H.T, H.conj().T  # Hermitian transpose and conj transpose"
   ]
  },
  {
   "cell_type": "code",
   "execution_count": 37,
   "id": "e01e0a1e",
   "metadata": {},
   "outputs": [
    {
     "output_type": "execute_result",
     "data": {
      "text/plain": [
       "tensor([[1.1234+-0.0000j, 0.3846+0.0064j],\n",
       "        [0.3846-0.0064j, 0.1317+-0.0000j]])"
      ]
     },
     "metadata": {},
     "execution_count": 37
    }
   ],
   "source": [
    "H.conj().T  # conjugate transpose"
   ]
  },
  {
   "cell_type": "code",
   "execution_count": 38,
   "id": "6ffa6ec8",
   "metadata": {},
   "outputs": [
    {
     "output_type": "execute_result",
     "data": {
      "text/plain": [
       "-1j"
      ]
     },
     "metadata": {},
     "execution_count": 38
    }
   ],
   "source": [
    "np.conj(1j) # complex conjugation for a number"
   ]
  },
  {
   "cell_type": "markdown",
   "id": "4f854212",
   "metadata": {},
   "source": [
    "## Tensor slicing"
   ]
  },
  {
   "cell_type": "code",
   "execution_count": 39,
   "id": "5aa4a4f2",
   "metadata": {},
   "outputs": [
    {
     "output_type": "execute_result",
     "data": {
      "text/plain": [
       "tensor([[0.0225, 0.7661, 0.7259, 0.2711, 0.7052],\n",
       "        [0.1349, 0.6725, 0.6366, 0.1626, 0.4018],\n",
       "        [0.4128, 0.6438, 0.0160, 0.8131, 0.9429]])"
      ]
     },
     "metadata": {},
     "execution_count": 39
    }
   ],
   "source": [
    "shape = (3,5)\n",
    "A = torch.rand(shape)\n",
    "A"
   ]
  },
  {
   "cell_type": "code",
   "execution_count": 40,
   "id": "a85719ef",
   "metadata": {},
   "outputs": [
    {
     "output_type": "execute_result",
     "data": {
      "text/plain": [
       "tensor(0.1626)"
      ]
     },
     "metadata": {},
     "execution_count": 40
    }
   ],
   "source": [
    "A[1,3]  # element on the 1st row 3rd column"
   ]
  },
  {
   "cell_type": "code",
   "execution_count": 41,
   "id": "12b9e513",
   "metadata": {},
   "outputs": [
    {
     "output_type": "execute_result",
     "data": {
      "text/plain": [
       "tensor([0.7259, 0.6366, 0.0160])"
      ]
     },
     "metadata": {},
     "execution_count": 41
    }
   ],
   "source": [
    "A[:,2]  # elements on the 2nd column"
   ]
  },
  {
   "cell_type": "code",
   "execution_count": 42,
   "id": "ce2aac14",
   "metadata": {},
   "outputs": [
    {
     "output_type": "execute_result",
     "data": {
      "text/plain": [
       "tensor([[0.7259],\n",
       "        [0.6366],\n",
       "        [0.0160]])"
      ]
     },
     "metadata": {},
     "execution_count": 42
    }
   ],
   "source": [
    "A[:,2].reshape(-1,1)  # reshaping to a column vector "
   ]
  },
  {
   "cell_type": "code",
   "execution_count": 43,
   "id": "1ad43c3a",
   "metadata": {},
   "outputs": [
    {
     "output_type": "execute_result",
     "data": {
      "text/plain": [
       "tensor([[0.7661, 0.7259],\n",
       "        [0.6725, 0.6366],\n",
       "        [0.6438, 0.0160]])"
      ]
     },
     "metadata": {},
     "execution_count": 43
    }
   ],
   "source": [
    "A[0:3,1:3]  # first three rows of the second and third columns"
   ]
  },
  {
   "cell_type": "code",
   "execution_count": 44,
   "metadata": {},
   "outputs": [
    {
     "output_type": "execute_result",
     "data": {
      "text/plain": [
       "tensor([[0.0225, 0.7661, 0.7259, 0.2711, 0.7052],\n",
       "        [0.1349, 0.6725, 0.6366, 0.1626, 0.4018],\n",
       "        [0.4128, 0.6438, 0.0160, 0.8131, 0.9429]])"
      ]
     },
     "metadata": {},
     "execution_count": 44
    }
   ],
   "source": [
    "A"
   ]
  },
  {
   "cell_type": "code",
   "execution_count": 45,
   "id": "04e71f1d",
   "metadata": {},
   "outputs": [
    {
     "output_type": "execute_result",
     "data": {
      "text/plain": [
       "tensor([[0.1626, 0.4018],\n",
       "        [0.8131, 0.9429]])"
      ]
     },
     "metadata": {},
     "execution_count": 45
    }
   ],
   "source": [
    "A[-2:,-2:]  # the last two rows and last 2 colums"
   ]
  },
  {
   "cell_type": "code",
   "execution_count": 46,
   "id": "dc37b42b",
   "metadata": {},
   "outputs": [
    {
     "output_type": "execute_result",
     "data": {
      "text/plain": [
       "tensor([[ 0.0225,  0.7661,  0.7259,  0.2711,  0.7052],\n",
       "        [ 0.1349, 10.0000,  0.6366,  0.1626,  0.4018],\n",
       "        [ 0.4128,  0.6438,  0.0160,  0.8131,  0.9429]])"
      ]
     },
     "metadata": {},
     "execution_count": 46
    }
   ],
   "source": [
    "A[1,1] = 10  # reassigning the value\n",
    "A"
   ]
  },
  {
   "cell_type": "code",
   "execution_count": 47,
   "id": "65b4cb9e",
   "metadata": {},
   "outputs": [
    {
     "output_type": "execute_result",
     "data": {
      "text/plain": [
       "tensor([[1.0000, 1.0000, 0.7259, 0.2711, 0.7052],\n",
       "        [1.0000, 1.0000, 0.6366, 0.1626, 0.4018],\n",
       "        [0.4128, 0.6438, 0.0160, 0.8131, 0.9429]])"
      ]
     },
     "metadata": {},
     "execution_count": 47
    }
   ],
   "source": [
    "A[:2,:2] = 1.0  # reassigning multiple values\n",
    "A"
   ]
  },
  {
   "cell_type": "code",
   "execution_count": 48,
   "id": "a36c64a2",
   "metadata": {},
   "outputs": [
    {
     "output_type": "execute_result",
     "data": {
      "text/plain": [
       "tensor([[0., 0., 0., 0., 0.],\n",
       "        [0., 0., 0., 0., 0.],\n",
       "        [0., 0., 0., 0., 0.]])"
      ]
     },
     "metadata": {},
     "execution_count": 48
    }
   ],
   "source": [
    "A[:,:] = 0  # reassigning all values\n",
    "A"
   ]
  },
  {
   "cell_type": "code",
   "execution_count": 49,
   "id": "deb69671",
   "metadata": {},
   "outputs": [
    {
     "output_type": "execute_result",
     "data": {
      "text/plain": [
       "tensor([[0.1814+0.5839j, 0.5615+0.9333j, 0.3104+0.7233j],\n",
       "        [0.0416+0.7359j, 0.8710+0.2497j, 0.0947+0.3995j],\n",
       "        [0.1085+0.6504j, 0.0276+0.7532j, 0.6545+0.1453j]])"
      ]
     },
     "metadata": {},
     "execution_count": 49
    }
   ],
   "source": [
    "A = torch.rand(3,3, dtype=torch.cfloat)\n",
    "A"
   ]
  },
  {
   "cell_type": "code",
   "execution_count": 50,
   "id": "b78ca9df",
   "metadata": {},
   "outputs": [
    {
     "output_type": "execute_result",
     "data": {
      "text/plain": [
       "tensor([0.1814+0.5839j, 0.5615+0.9333j, 0.3104+0.7233j])"
      ]
     },
     "metadata": {},
     "execution_count": 50
    }
   ],
   "source": [
    "A[0]  # linear index"
   ]
  },
  {
   "cell_type": "code",
   "execution_count": 51,
   "id": "5ac011bb",
   "metadata": {},
   "outputs": [
    {
     "output_type": "execute_result",
     "data": {
      "text/plain": [
       "tensor([[[0.2124, 0.6912, 0.9369],\n",
       "         [0.3774, 0.8324, 0.3773]],\n",
       "\n",
       "        [[0.0043, 0.9230, 0.8115],\n",
       "         [0.1299, 0.3255, 0.5572]],\n",
       "\n",
       "        [[0.8675, 0.7110, 0.0338],\n",
       "         [0.1243, 0.7369, 0.1481]]])"
      ]
     },
     "metadata": {},
     "execution_count": 51
    }
   ],
   "source": [
    "shape = (3,2,3)\n",
    "A = torch.rand(shape)\n",
    "A"
   ]
  },
  {
   "cell_type": "code",
   "execution_count": 52,
   "id": "4437b8f4",
   "metadata": {},
   "outputs": [
    {
     "output_type": "execute_result",
     "data": {
      "text/plain": [
       "tensor([[0.2124, 0.6912, 0.9369],\n",
       "        [0.3774, 0.8324, 0.3773]])"
      ]
     },
     "metadata": {},
     "execution_count": 52
    }
   ],
   "source": [
    "A[0]  # consistency for the multidimnsional array"
   ]
  },
  {
   "cell_type": "markdown",
   "id": "be9309df",
   "metadata": {},
   "source": [
    "## Reshape and permute matrices"
   ]
  },
  {
   "cell_type": "code",
   "execution_count": 53,
   "id": "ed8a20ba",
   "metadata": {},
   "outputs": [
    {
     "output_type": "execute_result",
     "data": {
      "text/plain": [
       "tensor([0, 1, 2, 3, 4, 5])"
      ]
     },
     "metadata": {},
     "execution_count": 53
    }
   ],
   "source": [
    "A = torch.arange(6)\n",
    "A"
   ]
  },
  {
   "cell_type": "code",
   "execution_count": 54,
   "id": "05a1c5f6",
   "metadata": {},
   "outputs": [
    {
     "output_type": "execute_result",
     "data": {
      "text/plain": [
       "tensor([[0, 1],\n",
       "        [2, 3],\n",
       "        [4, 5]])"
      ]
     },
     "metadata": {},
     "execution_count": 54
    }
   ],
   "source": [
    "B = A.reshape(3,2)\n",
    "B"
   ]
  },
  {
   "cell_type": "code",
   "execution_count": 55,
   "id": "3f70c8ec",
   "metadata": {},
   "outputs": [
    {
     "output_type": "execute_result",
     "data": {
      "text/plain": [
       "tensor([[0, 2, 4],\n",
       "        [1, 3, 5]])"
      ]
     },
     "metadata": {},
     "execution_count": 55
    }
   ],
   "source": [
    "B.permute(1,0)  # same as transpose for matrices"
   ]
  },
  {
   "cell_type": "markdown",
   "id": "c16818f8",
   "metadata": {},
   "source": [
    "## Sum and product"
   ]
  },
  {
   "cell_type": "code",
   "execution_count": 56,
   "id": "afa0b3d6",
   "metadata": {},
   "outputs": [
    {
     "output_type": "execute_result",
     "data": {
      "text/plain": [
       "(tensor([1, 2, 3, 4, 5, 6, 7, 8, 9]), tensor(45), tensor(362880))"
      ]
     },
     "metadata": {},
     "execution_count": 56
    }
   ],
   "source": [
    "A = torch.arange(1,10)\n",
    "A, A.sum(), A.prod()"
   ]
  },
  {
   "cell_type": "code",
   "execution_count": 57,
   "id": "9ae20ed6",
   "metadata": {},
   "outputs": [
    {
     "output_type": "execute_result",
     "data": {
      "text/plain": [
       "(tensor([[1, 2, 3],\n",
       "         [4, 5, 6],\n",
       "         [7, 8, 9]]),\n",
       " tensor([12, 15, 18]),\n",
       " tensor([ 6, 15, 24]))"
      ]
     },
     "metadata": {},
     "execution_count": 57
    }
   ],
   "source": [
    "A = A.reshape(3,3)\n",
    "A, A.sum(0), A.sum(1)  # summing along a specific dimension"
   ]
  },
  {
   "cell_type": "code",
   "execution_count": 58,
   "id": "7881742e",
   "metadata": {},
   "outputs": [
    {
     "output_type": "execute_result",
     "data": {
      "text/plain": [
       "(tensor([[1, 2, 3],\n",
       "         [4, 5, 6],\n",
       "         [7, 8, 9]]),\n",
       " tensor([ 28,  80, 162]),\n",
       " tensor([  6, 120, 504]))"
      ]
     },
     "metadata": {},
     "execution_count": 58
    }
   ],
   "source": [
    "A, A.prod(0), A.prod(1)  # product of all the elements"
   ]
  },
  {
   "cell_type": "markdown",
   "id": "d67afee8",
   "metadata": {},
   "source": [
    "## Eigenvalues and eigenvectors"
   ]
  },
  {
   "cell_type": "code",
   "execution_count": 59,
   "metadata": {},
   "outputs": [],
   "source": [
    "def is_hermitian(A):\n",
    "    if A.shape[0]==A.shape[1]:\n",
    "        return torch.allclose(A, A.conj().T)\n",
    "    else:\n",
    "        return False"
   ]
  },
  {
   "cell_type": "code",
   "execution_count": 60,
   "id": "345af770",
   "metadata": {},
   "outputs": [
    {
     "output_type": "execute_result",
     "data": {
      "text/plain": [
       "(tensor([[0.8235+0.0000j, 0.9416-0.4705j],\n",
       "         [0.9416+0.4705j, 0.0874+0.0000j]], dtype=torch.complex128),\n",
       " True)"
      ]
     },
     "metadata": {},
     "execution_count": 60
    }
   ],
   "source": [
    "shape = (2,2)\n",
    "A = torch.rand(shape, dtype=torch.complex128)\n",
    "A = (A + A.conj().T)  # Hermitian\n",
    "A, is_hermitian(A)"
   ]
  },
  {
   "cell_type": "code",
   "execution_count": 61,
   "id": "6d52470f",
   "metadata": {},
   "outputs": [
    {
     "output_type": "execute_result",
     "data": {
      "text/plain": [
       "(tensor([-0.6596,  1.5705], dtype=torch.float64),\n",
       " tensor([[-0.5788+-0.0000j, -0.8155+0.0000j],\n",
       "         [ 0.7295+0.3645j, -0.5177-0.2587j]], dtype=torch.complex128))"
      ]
     },
     "metadata": {},
     "execution_count": 61
    }
   ],
   "source": [
    "D, V = torch.linalg.eigh(A)  # eigenvalues and eigenvectors\n",
    "D, V"
   ]
  },
  {
   "cell_type": "code",
   "execution_count": 62,
   "metadata": {},
   "outputs": [
    {
     "output_type": "execute_result",
     "data": {
      "text/plain": [
       "True"
      ]
     },
     "metadata": {},
     "execution_count": 62
    }
   ],
   "source": [
    "B = V @ D.to(V.dtype).diag() @ V.conj().T\n",
    "torch.allclose(B, A)  # should be close to the original"
   ]
  },
  {
   "cell_type": "code",
   "execution_count": 63,
   "id": "7d091772",
   "metadata": {},
   "outputs": [
    {
     "output_type": "execute_result",
     "data": {
      "text/plain": [
       "True"
      ]
     },
     "metadata": {},
     "execution_count": 63
    }
   ],
   "source": [
    "B = V.conj().T @ V # left unitarity\n",
    "torch.allclose(B, torch.eye(B.shape[0], dtype=torch.complex128))"
   ]
  },
  {
   "cell_type": "markdown",
   "id": "31099109",
   "metadata": {},
   "source": [
    "## Singular value decomposition"
   ]
  },
  {
   "cell_type": "code",
   "execution_count": 64,
   "id": "1547653d",
   "metadata": {},
   "outputs": [
    {
     "output_type": "execute_result",
     "data": {
      "text/plain": [
       "(tensor([[0.5158+0.0465j, 0.6354+0.0024j],\n",
       "         [0.7792+0.5281j, 0.4283+0.7780j],\n",
       "         [0.6249+0.7593j, 0.9958+0.3477j]], dtype=torch.complex128),\n",
       " False)"
      ]
     },
     "metadata": {},
     "execution_count": 64
    }
   ],
   "source": [
    "shape = (3,2)\n",
    "A = torch.rand(shape, dtype=torch.complex128)  # non-Hermitian \n",
    "A, is_hermitian(A)"
   ]
  },
  {
   "cell_type": "code",
   "execution_count": 65,
   "id": "c0dee812",
   "metadata": {},
   "outputs": [
    {
     "output_type": "execute_result",
     "data": {
      "text/plain": [
       "(tensor([[-0.3978-0.0379j, -0.1286-0.0198j],\n",
       "         [-0.3877-0.4666j,  0.6495-0.3665j],\n",
       "         [-0.5499-0.4123j, -0.4248+0.4965j]], dtype=torch.complex128),\n",
       " tensor([2.0452, 0.4933], dtype=torch.float64),\n",
       " tensor([[-0.6904+0.0000j, -0.7201+0.0688j],\n",
       "         [ 0.7234+0.0000j, -0.6873+0.0657j]], dtype=torch.complex128))"
      ]
     },
     "metadata": {},
     "execution_count": 65
    }
   ],
   "source": [
    "U,S,Vh = torch.linalg.svd(A, full_matrices=False)  #  SVD\n",
    "U, S, Vh"
   ]
  },
  {
   "cell_type": "code",
   "execution_count": 66,
   "id": "fe1f176b",
   "metadata": {},
   "outputs": [
    {
     "output_type": "execute_result",
     "data": {
      "text/plain": [
       "True"
      ]
     },
     "metadata": {},
     "execution_count": 66
    }
   ],
   "source": [
    "torch.allclose(U @ S.to(U.dtype).diag() @ Vh, A)  # should be zero up to numerical precision"
   ]
  },
  {
   "cell_type": "code",
   "execution_count": 67,
   "id": "fe85b7cd",
   "metadata": {},
   "outputs": [
    {
     "output_type": "execute_result",
     "data": {
      "text/plain": [
       "True"
      ]
     },
     "metadata": {},
     "execution_count": 67
    }
   ],
   "source": [
    "torch.allclose(U.conj().T @ U, torch.eye(U.shape[1], dtype=torch.complex128))  # identity"
   ]
  },
  {
   "cell_type": "code",
   "execution_count": 68,
   "id": "6c9ca36b",
   "metadata": {},
   "outputs": [
    {
     "output_type": "execute_result",
     "data": {
      "text/plain": [
       "True"
      ]
     },
     "metadata": {},
     "execution_count": 68
    }
   ],
   "source": [
    "torch.allclose(Vh @ Vh.conj().T, torch.eye(Vh.shape[0], dtype=torch.complex128))  # identity"
   ]
  },
  {
   "cell_type": "markdown",
   "id": "3bf3db68",
   "metadata": {},
   "source": [
    "## QR decomposition"
   ]
  },
  {
   "cell_type": "code",
   "execution_count": 69,
   "id": "421b30cf",
   "metadata": {},
   "outputs": [],
   "source": [
    "shape = (4,3)\n",
    "A = torch.rand(shape, dtype=torch.complex128)"
   ]
  },
  {
   "cell_type": "code",
   "execution_count": 70,
   "id": "be4594c5",
   "metadata": {},
   "outputs": [],
   "source": [
    "Q,R = torch.linalg.qr(A, mode='reduced')  # A=Q*R. Default mode is 'reduced'"
   ]
  },
  {
   "cell_type": "code",
   "execution_count": 71,
   "id": "930b9098",
   "metadata": {},
   "outputs": [
    {
     "output_type": "execute_result",
     "data": {
      "text/plain": [
       "(tensor([[-0.5137-0.0296j,  0.3741-0.3864j,  0.6028+0.2553j],\n",
       "         [-0.4997-0.4105j, -0.0464+0.1453j, -0.0801-0.5317j],\n",
       "         [-0.0023-0.2212j, -0.6830-0.3944j, -0.0666+0.3969j],\n",
       "         [-0.3612-0.3709j, -0.1283-0.2212j, -0.3412-0.0629j]],\n",
       "        dtype=torch.complex128),\n",
       " tensor([[-1.9250+0.0000j, -1.2290+0.4509j, -1.6596-0.2966j],\n",
       "         [ 0.0000+0.0000j, -1.2934+0.0000j, -0.6753-0.7547j],\n",
       "         [ 0.0000+0.0000j,  0.0000+0.0000j, -0.4149+0.0000j]],\n",
       "        dtype=torch.complex128))"
      ]
     },
     "metadata": {},
     "execution_count": 71
    }
   ],
   "source": [
    "Q, R"
   ]
  },
  {
   "cell_type": "code",
   "execution_count": 72,
   "id": "4198c6f0",
   "metadata": {},
   "outputs": [
    {
     "output_type": "execute_result",
     "data": {
      "text/plain": [
       "True"
      ]
     },
     "metadata": {},
     "execution_count": 72
    }
   ],
   "source": [
    "torch.allclose(Q @ R, A)  # close to zero"
   ]
  },
  {
   "cell_type": "code",
   "execution_count": 73,
   "metadata": {},
   "outputs": [
    {
     "output_type": "execute_result",
     "data": {
      "text/plain": [
       "tensor([[ 0.2882+0.7097j, -0.2422+0.4133j, -0.2924+0.3127j],\n",
       "        [-0.2422+0.4133j,  0.2502+0.2929j,  0.6371-0.2856j],\n",
       "        [-0.2924+0.3127j,  0.6371-0.2856j, -0.0186+0.3830j]],\n",
       "       dtype=torch.complex128)"
      ]
     },
     "metadata": {},
     "execution_count": 73
    }
   ],
   "source": [
    "Q.T @ Q"
   ]
  },
  {
   "cell_type": "code",
   "execution_count": 74,
   "id": "a8813522",
   "metadata": {},
   "outputs": [
    {
     "output_type": "execute_result",
     "data": {
      "text/plain": [
       "True"
      ]
     },
     "metadata": {},
     "execution_count": 74
    }
   ],
   "source": [
    "torch.allclose(Q.conj().T @ Q, torch.eye(Q.shape[1], dtype=torch.complex128))"
   ]
  },
  {
   "cell_type": "markdown",
   "id": "0dcfcbb5",
   "metadata": {},
   "source": [
    "## Time counter"
   ]
  },
  {
   "cell_type": "code",
   "execution_count": 75,
   "id": "8b29be68",
   "metadata": {},
   "outputs": [],
   "source": [
    "from timeit import default_timer as timer"
   ]
  },
  {
   "cell_type": "code",
   "execution_count": 76,
   "id": "cc5e4b0e",
   "metadata": {},
   "outputs": [
    {
     "output_type": "execute_result",
     "data": {
      "text/plain": [
       "0.0004894530000001396"
      ]
     },
     "metadata": {},
     "execution_count": 76
    }
   ],
   "source": [
    "start = timer()\n",
    "A = torch.rand(size=(10,10)) @ torch.rand(size=(10,10))\n",
    "timer()-start"
   ]
  },
  {
   "cell_type": "markdown",
   "id": "a8d476b0",
   "metadata": {},
   "source": [
    "## Masked selection"
   ]
  },
  {
   "cell_type": "code",
   "execution_count": 77,
   "metadata": {},
   "outputs": [
    {
     "output_type": "execute_result",
     "data": {
      "text/plain": [
       "tensor([[0.5417, 0.5293, 0.0345],\n",
       "        [0.9850, 0.1409, 0.6582],\n",
       "        [0.5572, 0.3236, 0.9068],\n",
       "        [0.3798, 0.5328, 0.4019]])"
      ]
     },
     "metadata": {},
     "execution_count": 77
    }
   ],
   "source": [
    "shape = (4,3)\n",
    "A = torch.rand(shape)\n",
    "A"
   ]
  },
  {
   "cell_type": "code",
   "execution_count": 78,
   "metadata": {},
   "outputs": [
    {
     "output_type": "execute_result",
     "data": {
      "text/plain": [
       "tensor([0.0345, 0.1409])"
      ]
     },
     "metadata": {},
     "execution_count": 78
    }
   ],
   "source": [
    "A.masked_select(A<0.2)  # return only the values that are < 0.2"
   ]
  },
  {
   "cell_type": "code",
   "execution_count": 79,
   "id": "1c6ec5ab",
   "metadata": {},
   "outputs": [
    {
     "output_type": "execute_result",
     "data": {
      "text/plain": [
       "(tensor([[False, False,  True],\n",
       "         [False,  True, False],\n",
       "         [False, False, False],\n",
       "         [False, False, False]]),\n",
       " tensor([0.0345, 0.1409]))"
      ]
     },
     "metadata": {},
     "execution_count": 79
    }
   ],
   "source": [
    "mask = A.le(0.2)  # alternatively, create a mask as select\n",
    "mask, A.masked_select(mask)"
   ]
  },
  {
   "cell_type": "code",
   "execution_count": null,
   "id": "84d15d04",
   "metadata": {},
   "outputs": [],
   "source": []
  }
 ],
 "metadata": {
  "kernelspec": {
   "display_name": "Python 3",
   "language": "python",
   "name": "python3"
  },
  "language_info": {
   "codemirror_mode": {
    "name": "ipython",
    "version": 3
   },
   "file_extension": ".py",
   "mimetype": "text/x-python",
   "name": "python",
   "nbconvert_exporter": "python",
   "pygments_lexer": "ipython3",
   "version": "3.8.5"
  }
 },
 "nbformat": 4,
 "nbformat_minor": 5
}