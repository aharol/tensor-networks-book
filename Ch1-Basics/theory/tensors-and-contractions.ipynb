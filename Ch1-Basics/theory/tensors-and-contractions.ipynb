{
 "cells": [
  {
   "cell_type": "markdown",
   "metadata": {},
   "source": [
    "# Tensors and Diagramatic Notation\n",
    "Tensors are mathematical objects that are ubiquitous in modern physics and machine learning. They correspond to multilinear maps, i.e. functions linear in each parameter. \n",
    "\n",
    "<!-- In practice, tensors are represented as multidimentional arrays of numbers, and generalize vectors and matrices in higher dimensions. -->"
   ]
  },
  {
   "source": [
    "Given a finite dimensional Hilbert space ${\\mathcal X} \\cong \\mathbb C^{d}$ over the field of complex numbers, let $\\{|i\\rangle : i = 0, \\cdots, d-1\\}$ denote a standard _computational basis_. Then any vector $|v\\rangle \\in \\mathcal X^{d}$ is a $1$st order tensor that can be expressed in terms of its tensor components $|v\\rangle = \\sum^{d-1}_{i=0} v_{i} |i\\rangle$, where $v_{i} = \\langle i|v \\rangle$. Similarly, a linear operator $A : \\mathcal X \\rightarrow \\mathcal X$ is a $2$nd order tensor with a representation in the chosen computational basis as $\\sum^{d-1}_{i,j=0}A_{ij} | i \\rangle \\langle j |$ with components $A_{ij} = \\langle i|A|j \\rangle$."
   ],
   "cell_type": "markdown",
   "metadata": {}
  },
  {
   "source": [
    "A tensor _order_ (or _valence_) is used to indicate a total number of indices required to specify individual elements of a tensor. As such, a vector is tensor of order $1$, and a matrix is a tensor of order $2$. A trivial tensor of order $0$ is a scalar. It is a good practice to always use the word order to distinguish various types of tensors.\n",
    "\n",
    "```{caution}\n",
    "Some literature use the word _rank_ to indicate tensor order or valence. However, one should be careful when the word rank is used. In linear algebra a rank of a matrix means a totally different concept -  the number of its independent columns. Hence, following Penrose, we adopt the word order instead throughout the book. \n",
    "```\n",
    "\n",
    "Graphically, tensors can be depicted as nodes with legs attached to them depending on of a tensor. Figure {numref}`basic-tensors` shows examples.\n",
    "```{figure} ./figs/basic-tensors.pdf\n",
    ":height: 450px\n",
    ":name: basic-tensors\n",
    "\n",
    "Basic tensors and their graphical notation.\n",
    "```"
   ],
   "cell_type": "markdown",
   "metadata": {}
  },
  {
   "source": [
    "In Dirac notation, vectors $| v \\rangle \\in \\mathcal X$ are called _kets_, and vectors in the dual space $\\langle v | \\in \\mathcal X^{*}$ are called _bras_. Because $\\mathcal X$ is a space of complex numbers, we will follow the standard nomenclature and denote $\\mathcal X^{*}$ as $\\mathcal X^{\\dagger}$."
   ],
   "cell_type": "markdown",
   "metadata": {}
  },
  {
   "source": [
    "## From Tensors to Tensor Networks"
   ],
   "cell_type": "markdown",
   "metadata": {}
  },
  {
   "source": [
    "```{figure} ./figs/basic-tensor-nets.pdf\n",
    ":height: 170px\n",
    ":name: basic-tensor-nets\n",
    "```"
   ],
   "cell_type": "markdown",
   "metadata": {}
  },
  {
   "source": [
    "A gentle introduction to the Tensor Network methods is {cite}`biamonteLecturesQuantumTensor2020`."
   ],
   "cell_type": "markdown",
   "metadata": {}
  },
  {
   "source": [
    "## Cited references"
   ],
   "cell_type": "markdown",
   "metadata": {}
  },
  {
   "source": [
    "```{bibliography}\n",
    ":style: unsrtalpha\n",
    ":filter: docname in docnames\n",
    "```"
   ],
   "cell_type": "markdown",
   "metadata": {}
  },
  {
   "cell_type": "code",
   "execution_count": null,
   "metadata": {},
   "outputs": [],
   "source": []
  }
 ],
 "metadata": {
  "celltoolbar": "Tags",
  "kernelspec": {
   "display_name": "Python 3",
   "language": "python",
   "name": "python3"
  }
 },
 "nbformat": 4,
 "nbformat_minor": 4
}