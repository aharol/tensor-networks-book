{
 "metadata": {
  "language_info": {
   "codemirror_mode": {
    "name": "ipython",
    "version": 3
   },
   "file_extension": ".py",
   "mimetype": "text/x-python",
   "name": "python",
   "nbconvert_exporter": "python",
   "pygments_lexer": "ipython3",
   "version": 3
  },
  "orig_nbformat": 2
 },
 "nbformat": 4,
 "nbformat_minor": 2,
 "cells": [
  {
   "source": [
    "# Basics of MPS"
   ],
   "cell_type": "markdown",
   "metadata": {}
  },
  {
   "source": [
    "Matrix Product States (MPS) are simplest but important non-trivial tensor networks. Useful for a cetain but a big class of 1D systems."
   ],
   "cell_type": "markdown",
   "metadata": {}
  },
  {
   "source": [
    "## Motivation\n",
    "\n",
    "Consider a one-dimensional quantum spin system with $N$ sites as shown on {numref}`spin-chain`.\n",
    "```{figure} ./figs/spin-chain.pdf\n",
    ":height: 50px\n",
    ":name: spin-chain\n",
    "\n",
    "Spin chain model.\n",
    "```\n",
    "On each site $\\ell \\in \\{1,\\cdots, N\\}$ we have a single spin-$s$ system. By letting the states $\\{ | 1 \\rangle, | 2 \\rangle, \\cdots, | 2s+1 \\rangle \\}$ to define a basis for this system in a local Hilbert space $\\mathcal X^{d}$, one can represent every single site $\\ell$ by using a state vector $| \\sigma_{\\ell} \\rangle \\in \\{ | 1 \\rangle, | 2 \\rangle, \\cdots, | 2s+1 \\rangle  \\}$. Note, that the dimension of the local Hilbert space is given by $d=2s+1$, and is called a _local dimension_.\n",
    "\n",
    "The state of a full chain of $N$ sites is defined by tensor product $| \\sigma_{1} \\sigma_{2} \\cdots \\sigma_{N} \\rangle \\equiv \\bigotimes^{N}_{i=1} | \\sigma_{i} \\rangle$, where by convention the ordering is rigth to left. The dimensionality of the Hilbert space describing the full chain is $\\mathcal X^{N} = \\text{span}\\{ | \\sigma_{1} \\sigma_{2} \\cdots \\sigma_{N} \\rangle \\}$, with the total dimension $d^{N}$.\n",
    "\n",
    "A general quantum state in a Hilbert space $|\\psi\\rangle \\in \\mathcal X^{N}$ can be represented as a superposition of the basis states $| \\sigma_{1} \\sigma_{2} \\cdots \\sigma_{N} \\rangle$\n",
    "```{math}\n",
    ":label: wave-function\n",
    "| {\\psi} \\rangle = \\sum_{\\sigma_{1} \\sigma_{2} \\cdots \\sigma_{N}} | \\sigma_{1} \\sigma_{2} \\cdots \\sigma_{N}  \\rangle T^{\\sigma_{1} \\sigma_{2} \\cdots \\sigma_{N}}.\n",
    "```\n",
    "To full specify $| {\\psi} \\rangle$ one requires $d^N$ complex numbers $T^{\\sigma_{1} \\sigma_{2} \\cdots \\sigma_{N}}$, which grows exponentially with $N$. Such tensor can be graphically represented as shown on {numref}`general-quantum-state`.\n",
    "\n",
    "```{figure} ./figs/general-quantum-state.pdf\n",
    ":height: 97px\n",
    ":name: general-quantum-state\n",
    "\n",
    "Tensor representing a general quantum state.\n",
    "```"
   ],
   "cell_type": "markdown",
   "metadata": {}
  },
  {
   "source": [
    "## Defining a MPS"
   ],
   "cell_type": "markdown",
   "metadata": {}
  },
  {
   "source": [
    "Again, consider the spin-$s$ system {numref}`spin-chain` with a Hamiltonian \n",
    "$H^{N} = \\sum^{N-1}_{\\ell=1}J_{\\ell} S_{\\ell}S_{\\ell+1} + \\sum^{N}_{\\ell=1}S_{\\ell}{\\mathcal h}_{\\ell}.$\n",
    "We seek to find the eigenstates of $H^{N}$ by iteratively diagonalizing it by looking at one site $\\ell$ at a time.\n",
    "\n",
    "For $N=1$, the eigenstates of $H^{1}$ have a form $| \\alpha \\rangle = | \\sigma_{1} \\rangle A^{\\sigma_{1}}_{\\alpha}$, where $A^{\\sigma_{1}}_{\\alpha}$ is a matrix of coefficients in the new basis and $\\alpha = 1, \\cdots, d$.\n",
    "\n",
    "For $N=2$, we diagonalize $H^{2}$ by finding $| \\beta \\rangle = | \\sigma_{1} \\rangle \\otimes | \\alpha \\rangle B^{\\alpha \\sigma_{2}}_{\\beta}$ and $\\beta = 1, \\cdots, d^{2}$. Substituting $\\alpha$ from the previous equation, one gets $| \\beta \\rangle = | \\sigma_{2} \\rangle \\otimes | \\sigma_{1} \\rangle A^{\\sigma_{1}}_{\\alpha} B^{\\alpha \\sigma_{2}}_{\\beta}$.\n",
    "\n",
    "For $N=3$, we diagonalize $H^{3}$ similarly. Setting $| \\gamma \\rangle = | \\sigma_{3} \\rangle \\otimes | \\beta \\rangle C^{\\beta \\sigma_{3}}_{\\gamma}$ where $\\gamma = 1, \\cdots, d^{3}$. Substituting again, one gets $| \\gamma \\rangle = | \\sigma_{3} \\rangle \\otimes | \\sigma_{2}  \\otimes | \\sigma_{1} \\rangle A^{\\sigma_{1}}_{\\alpha} B^{\\alpha \\sigma_{2}}_{\\beta}C^{\\beta\\sigma_{3}}_{\\gamma}$.\n",
    "\n",
    "Iterating until $N$,m one gets the following:\n",
    "$$\n",
    "| \\delta \\rangle = | \\sigma_{N} \\rangle \\otimes \\cdots \\otimes | \\sigma_{3} \\rangle \\otimes | \\sigma_{2} \\rangle \\otimes | \\sigma_{1} \\underbrace{ \\rangle A^{\\sigma_{1}}_{\\alpha} B^{\\alpha \\sigma_{2}}_{\\beta} C^{\\beta\\sigma_{3}}_{\\gamma} \\cdots D^{\\mu\\sigma_{N}}_\\delta }_{ T^{\\sigma_{1} \\sigma_{2} \\cdots \\sigma_{N}} } = | \\sigma_{1} \\sigma_{2} \\cdots \\sigma_{N} \\rangle T^{\\sigma_{1} \\sigma_{2} \\cdots \\sigma_{N}}\n",
    "$$\n",
    "\n",
    "This defines a matrix product state, or MPS. Here, $\\sigma_{\\ell}$ are physical indicises as they correspond to the physical state of each spin-$s$ system, and $\\alpha, \\beta, \\gamma, \\cdots$ are virtual bond indices."
   ],
   "cell_type": "markdown",
   "metadata": {}
  },
  {
   "cell_type": "code",
   "execution_count": null,
   "metadata": {},
   "outputs": [],
   "source": []
  }
 ]
}