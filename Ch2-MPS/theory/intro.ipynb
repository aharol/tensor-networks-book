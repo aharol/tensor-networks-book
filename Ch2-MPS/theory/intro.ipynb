{
 "metadata": {
  "language_info": {
   "codemirror_mode": {
    "name": "ipython",
    "version": 3
   },
   "file_extension": ".py",
   "mimetype": "text/x-python",
   "name": "python",
   "nbconvert_exporter": "python",
   "pygments_lexer": "ipython3",
   "version": 3
  },
  "orig_nbformat": 2
 },
 "nbformat": 4,
 "nbformat_minor": 2,
 "cells": [
  {
   "source": [
    "# Basics of MPS"
   ],
   "cell_type": "markdown",
   "metadata": {}
  },
  {
   "source": [
    "## Motivation\n",
    "\n",
    "Consider a one-dimensional quantum spin system with $N$ sites as shown on {numref}`spin-chain`.\n",
    "```{figure} ./figs/spin-chain.pdf\n",
    ":height: 50px\n",
    ":name: spin-chain\n",
    "\n",
    "Spin chain model.\n",
    "```\n",
    "On each site $\\ell \\in \\{1,\\cdots, N\\}$ we have a single spin-$s$ system. By letting the states $\\{ | 1 \\rangle, | 2 \\rangle, \\cdots, | 2s+1 \\rangle \\}$ to define a basis for this system in a local Hilbert space $\\mathcal X^{d}$, one can represent every single site $\\ell$ by using a state vector $| \\sigma_{\\ell} \\rangle \\in \\{ | 1 \\rangle, | 2 \\rangle, \\cdots, | 2s+1 \\rangle  \\}$. Note, that the dimension of the local Hilbert space is given by $d=2s+1$, and is called a _local dimension_.\n",
    "\n",
    "The state of a full chain of $N$ sites is defined by tensor product $| \\sigma_{1} \\sigma_{2} \\cdots \\sigma_{N} \\rangle \\equiv \\bigotimes^{N}_{i=1} | \\sigma_{i} \\rangle$, where by convention the ordering is rigth to left. The dimensionality of the Hilbert space describing the full chain is $\\mathcal X^{N} = \\text{span}\\{ | \\sigma_{1} \\sigma_{2} \\cdots \\sigma_{N} \\rangle \\}$, with the total dimension $d^{N}$.\n",
    "\n",
    "A general quantum state in a Hilbert space $|\\psi\\rangle \\in \\mathcal X^{N}$ can be represented as a superposition of the basis states $| \\sigma_{1} \\sigma_{2} \\cdots \\sigma_{N} \\rangle$\n",
    "```{math}\n",
    ":label: wave-function\n",
    "| {\\psi} \\rangle = \\sum_{\\sigma_{1} \\sigma_{2} \\cdots \\sigma_{N}} | \\sigma_{1} \\sigma_{2} \\cdots \\sigma_{N}  \\rangle T^{\\sigma_{1} \\sigma_{2} \\cdots \\sigma_{N}}.\n",
    "```\n",
    "To full specify $| {\\psi} \\rangle$ one requires $d^N$ complex numbers $T^{\\sigma_{1} \\sigma_{2} \\cdots \\sigma_{N}}$, which grows exponentially with $N$. Such tensor can be graphically represented as shown on {numref}`general-quantum-state`.\n",
    "\n",
    "```{figure} ./figs/general-quantum-state.pdf\n",
    ":height: 97px\n",
    ":name: general-quantum-state\n",
    "\n",
    "Tensor representing a general quantum state.\n",
    "```"
   ],
   "cell_type": "markdown",
   "metadata": {}
  },
  {
   "cell_type": "code",
   "execution_count": null,
   "metadata": {},
   "outputs": [],
   "source": []
  }
 ]
}