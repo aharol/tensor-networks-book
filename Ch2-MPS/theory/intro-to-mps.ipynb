{
 "metadata": {
  "language_info": {
   "codemirror_mode": {
    "name": "ipython",
    "version": 3
   },
   "file_extension": ".py",
   "mimetype": "text/x-python",
   "name": "python",
   "nbconvert_exporter": "python",
   "pygments_lexer": "ipython3",
   "version": 3
  },
  "orig_nbformat": 2
 },
 "nbformat": 4,
 "nbformat_minor": 2,
 "cells": [
  {
   "source": [
    "# Basics of MPS"
   ],
   "cell_type": "markdown",
   "metadata": {}
  },
  {
   "source": [
    "MPS is an important class of tensor networks useful when modeling 1D quantum systems."
   ],
   "cell_type": "markdown",
   "metadata": {}
  },
  {
   "source": [
    "## Motivation\n",
    "\n",
    "Consider a one-dimensional spin system with $N$ sites as shown on {numref}`spin-chain`.\n",
    "```{figure} ./figs/spin-chain.pdf\n",
    ":height: 50px\n",
    ":name: spin-chain\n",
    "\n",
    "Spin chain model model.\n",
    "```\n",
    "On each site $\\ell \\in \\{1,\\cdots, N\\}$ we have a single spin-$s$ system. By letting the states $\\{ | 1 \\rangle, | 2 \\rangle, \\cdots, | 2s+1 \\rangle \\}$ to define a basis for this system in a local Hilbert space $\\mathcal X^{d}$, one can represent every single site $\\ell$ by using a state vector $| \\sigma_{\\ell} \\rangle \\in \\{ | 1 \\rangle, | 2 \\rangle, \\cdots, | 2s+1 \\rangle  \\}$. Note, that the dimension of the local Hilbert space is given by $d=2s+1$, and is called a _local_ (or _physical_) dimension.\n",
    "\n",
    "The state of a full chain is defined by a tensor product $| \\sigma_{1} \\sigma_{2} \\cdots \\sigma_{N} \\rangle \\equiv \\bigotimes^{N}_{i=1} | \\sigma_{i} \\rangle$. The dimensionality of the Hilbert space describing the full chain is $\\mathcal X^{N} = \\text{span}\\{ | \\sigma_{1} \\sigma_{2} \\cdots \\sigma_{N} \\rangle \\}$, with the total dimension $d^{N}$.\n",
    "\n",
    "A general quantum state in a Hilbert space $|\\psi\\rangle \\in \\mathcal X^{N}$ can be represented as a superposition of the basis states $| \\sigma_{1} \\sigma_{2} \\cdots \\sigma_{N} \\rangle$\n",
    "```{math}\n",
    ":label: wave-function\n",
    "| {\\psi} \\rangle = \\sum_{\\sigma_{1} \\sigma_{2} \\cdots \\sigma_{N}} | \\sigma_{1} \\sigma_{2} \\cdots \\sigma_{N}  \\rangle T^{\\sigma_{1} \\sigma_{2} \\cdots \\sigma_{N}}_{\\psi}.\n",
    "```\n",
    "To full specify $| {\\psi} \\rangle$ one requires $d^N$ complex numbers $T^{\\sigma_{1} \\sigma_{2} \\cdots \\sigma_{N}}_{\\psi}$, which grows exponentially with $N$. Such tensor can be graphically represented as shown on {numref}`general-quantum-state`.\n",
    "\n",
    "```{figure} ./figs/general-quantum-state.pdf\n",
    ":height: 97px\n",
    ":name: general-quantum-state\n",
    "\n",
    "Tensor representing a general quantum state.\n",
    "```"
   ],
   "cell_type": "markdown",
   "metadata": {}
  },
  {
   "source": [
    "## Constructive definition of a MPS"
   ],
   "cell_type": "markdown",
   "metadata": {}
  },
  {
   "source": [
    "Consider a nearest neighbour Heisenberg model for the spin-$s$ system {numref}`spin-chain` with the Hamiltonian defined as\n",
    "$H^{N} = \\sum^{N-1}_{\\ell=1}J_{\\ell} S_{\\ell}S_{\\ell+1} + \\sum^{N}_{\\ell=1}S_{\\ell}{\\mathcal h}_{\\ell}.$ This Hamiltonan has two major components: the first is used to capture the local interactions, and the second is used to account for the local magnetic field.\n",
    "\n",
    "We seek to find the eigenstates describing $H^{N}$. Let's do this by iteratively diagonalizing the Hamiltonian from left to right by switching on one site $\\ell$ at a time.\n",
    "\n",
    "For $N=1$, the eigenstates of $H^{1}$ have a form $| \\alpha \\rangle = | \\sigma_{1} \\rangle A^{\\sigma_{1}}_{[1]\\alpha}$, where $A^{\\sigma_{1}}_{[1]\\alpha}$ is a matrix of coefficients in the new basis and $\\alpha = 1, \\cdots, d.$ Note, that the sum is implicit here. \n",
    "\n",
    "For $N=2$, the system is represented in a space spawned by $| \\sigma_1 \\rangle \\otimes |\\sigma_2 \\rangle$. We diagonalize $H^{2}$ by finding $| \\beta \\rangle = | \\sigma_{1} \\rangle \\otimes | \\alpha \\rangle A^{\\alpha \\sigma_{2}}_{[2]\\beta}$ and $\\beta = 1, \\cdots, d^{2}$, where again $A^{\\alpha \\sigma_{2}}_{[2]\\beta}$ is a set of coefficients in the new basis. Substituting $\\alpha$ from the previous equation, one gets $| \\beta \\rangle = | \\sigma_{2} \\rangle \\otimes | \\sigma_{1} \\rangle A^{\\sigma_{1}}_{[1]\\alpha} A^{\\alpha \\sigma_{2}}_{[2]\\beta}$.\n",
    "\n",
    "For $N=3$, we diagonalize $H^{3}$ similarly. Setting $| \\gamma \\rangle = | \\sigma_{3} \\rangle \\otimes | \\beta \\rangle A^{\\beta \\sigma_{3}}_{[3]\\gamma}$ where $\\gamma = 1, \\cdots, d^{3}$. Substituting again, one gets $| \\gamma \\rangle = | \\sigma_{3} \\rangle \\otimes | \\sigma_{2}  \\otimes | \\sigma_{1} \\rangle A^{\\sigma_{1}}_{[1]\\alpha} A^{\\alpha \\sigma_{2}}_{[2]\\beta}A^{\\beta\\sigma_{3}}_{[3]\\gamma}$.\n",
    "\n",
    "Iterating until the final $N$, one gets the following result:\n",
    "\n",
    "$$\n",
    "| \\psi \\rangle = | \\sigma_{N} \\rangle \\otimes \\cdots \\otimes | \\sigma_{3} \\rangle \\otimes | \\sigma_{2} \\rangle \\otimes | \\sigma_{1} \\underbrace{ \\rangle A^{\\sigma_{1}}_{[1]\\alpha} A^{\\alpha \\sigma_{2}}_{[2]\\beta} A^{\\beta\\sigma_{3}}_{[3]\\gamma} \\cdots A^{\\mu\\sigma_{N}}_{[N]} }_{ T^{\\sigma_{1} \\sigma_{2} \\cdots \\sigma_{N}} } = | \\sigma_{1} \\sigma_{2} \\cdots \\sigma_{N} \\rangle T^{\\sigma_{1} \\sigma_{2} \\cdots \\sigma_{N}}\n",
    "$$\n",
    "\n",
    "This defines a matrix product state, or MPS. Here, $\\sigma_{\\ell}$ are physical indicises as they correspond to the physical state of each spin-$s$ system, and $\\alpha, \\beta, \\gamma, \\cdots$ are virtual bond indices connecting the tensors of the chain.\n",
    "\n",
    "```{figure} ./figs/mps-simple-left-to-right.pdf\n",
    ":height: 97px\n",
    ":name: mps-construction\n",
    "\n",
    "Iterative construction of a MPS from the Heisenberg nearest neighbour model.\n",
    "```\n",
    "\n",
    "Note, that to make all tensors of the same order, one can introduce an extra index for the first and the last tensors without any loss of generality, namely by writing $A^{\\sigma_{1}}_{[1]\\alpha} \\equiv A^{1\\sigma_{1}}_{[1]\\alpha}$ and $A^{\\mu\\sigma_{N}}_{[N]} \\equiv A^{\\mu\\sigma_{n}}_{[N]1}$"
   ],
   "cell_type": "markdown",
   "metadata": {}
  },
  {
   "source": [
    "## Complexity of vanilla MPS and trancation"
   ],
   "cell_type": "markdown",
   "metadata": {}
  },
  {
   "source": [
    "Numerical cost to building a chain grows exponentially with $N$. Indeed,\n",
    "* For a given $\\sigma_{1} \\in \\mathcal X^{d}$, the size of $A^{1\\sigma_{1}}_{[1]\\alpha}$ is $1 \\times d$.\n",
    "* For a given $\\sigma_{2} \\in \\mathcal X^{d}$, the size of $A^{\\alpha\\sigma_{2}}_{[2]\\beta}$ is $d \\times d^{2}$.\n",
    "* For a given $\\sigma_{3} \\in \\mathcal X^{d}$, the size of $A^{\\beta\\sigma_{3}}_{[3]\\gamma}$ is $d^{2} \\times d^{3}$.\n",
    "* $\\cdots$\n",
    "* For a give $\\sigma_{N} \\in \\mathcal X^{d}$, the size of $T$ is $d^{N-1} \\times d^{N}$.\n",
    "\n",
    "One way to approch the problem of exponential complexity growth with the size of a chain is to truncate all virtual bonds $\\alpha, \\beta, \\gamma \\leq D$. This redices the number of parameters down to $N \\times D^2 \\times d$. Indeed, for a tensor $A^{\\mu\\sigma}_{\\lambda}$, the size of the physical dimension $\\sigma$ is $d$, and virtual dimensions $\\mu$ and $\\lambda$ are $D$ each. Note, that $N \\times D^{2} \\times d \\ll d^{N}$."
   ],
   "cell_type": "markdown",
   "metadata": {}
  },
  {
   "cell_type": "code",
   "execution_count": null,
   "metadata": {},
   "outputs": [],
   "source": []
  }
 ]
}