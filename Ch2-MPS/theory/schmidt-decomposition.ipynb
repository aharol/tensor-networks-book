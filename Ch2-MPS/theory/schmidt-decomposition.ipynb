{
 "metadata": {
  "language_info": {
   "codemirror_mode": {
    "name": "ipython",
    "version": 3
   },
   "file_extension": ".py",
   "mimetype": "text/x-python",
   "name": "python",
   "nbconvert_exporter": "python",
   "pygments_lexer": "ipython3",
   "version": 3
  },
  "orig_nbformat": 2
 },
 "nbformat": 4,
 "nbformat_minor": 2,
 "cells": [
  {
   "source": [
    "# Schmidt decomposition"
   ],
   "cell_type": "markdown",
   "metadata": {}
  },
  {
   "source": [
    "Schmidt decomposition is a useful to to study entanglement of subpart of a quantum systems $\\mathcal S$.\n",
    "\n",
    "Assume $\\mathcal S$ is composed of subsystems $\\mathcal A$ and $\\mathcal B$ with an orthonormal basis $| \\alpha \\rangle_{\\mathcal A}$ and $| \\beta \\rangle_{\\mathcal B}$. Specifically, one can assume $| \\alpha \\rangle_{\\mathcal A} \\equiv | \\sigma_{\\mathcal A} \\rangle$ and $| \\beta \\rangle_{\\mathcal B} \\equiv | \\sigma_{\\mathcal B} \\rangle_{\\mathcal B}$. A pure state defined on $\\mathcal A \\cup \\mathcal B$\n",
    "\n",
    "$$\n",
    "| \\psi \\rangle = | \\beta \\rangle_{\\mathcal B} | \\psi \\rangle_{\\mathcal A} \\psi^{\\alpha \\beta},\n",
    "$$\n",
    "\n",
    "with a density matrix\n",
    "\n",
    "$$\n",
    "\\rho = \\langle \\psi | \\psi \\rangle.\n",
    "$$\n",
    "\n",
    "Then, the reduced density matrix of subsystem $\\mathcal A$ can be formed by tracing out the subsystem $\\mathcal B$\n",
    "\n",
    "$$\n",
    "\\rho_{\\mathcal A} = \\textrm{Tr}_{\\mathcal B} \\langle \\psi | \\psi \\rangle = \\sum_{\\beta} \\langle \\bar{\\beta} | \\beta \\rangle_{\\mathcal B} | \\alpha \\rangle_{\\mathcal A} \\psi^{\\alpha \\beta} \\psi^{\\dagger}_{\\beta' \\alpha'} {}_{\\mathcal A} \\langle \\alpha' | {}_{\\mathcal B} \\langle \\beta' | \\bar{\\beta} \\rangle = | \\alpha \\rangle_{\\mathcal A} (\\rho_{\\mathcal A})^{\\alpha}_{\\alpha'} {}_{\\mathcal A} \\langle \\alpha' |,\n",
    "$$\n",
    "\n",
    "where \n",
    "\n",
    "$$\n",
    "(\\rho_{\\mathcal A})^{\\alpha}_{\\alpha'} = \\sum_{\\beta} \\langle \\bar{\\beta} | \\beta \\rangle_{\\mathcal B} \\psi^{\\alpha \\beta} \\psi^{\\dagger}_{\\beta' \\alpha'} {}_{\\mathcal B} \\langle \\beta' | \\bar{\\beta} \\rangle = \\psi^{\\alpha \\beta} \\psi^{\\dagger}_{\\beta\\alpha'} = (\\psi \\psi^{\\dagger})^{\\alpha}_{\\alpha'}.\n",
    "$$\n",
    "\n",
    "Similarly, the reduced density of subsystem $\\mathcal B$ can be found to be \n",
    "\n",
    "$$\n",
    "\\rho_{\\mathcal B} = \\textrm{Tr}_{\\mathcal A} \\langle \\psi | \\psi \\rangle = | \\beta \\rangle_{\\mathcal B} (\\rho_{\\mathcal B})^{\\beta}_{\\beta'} {}_{\\mathcal B} \\langle \\beta' |,\n",
    "$$\n",
    "\n",
    "with coefficients\n",
    "\n",
    "$$\n",
    "(\\rho_{\\mathcal B})^{\\beta}_{\\beta'} = (\\psi^{\\dagger} \\psi)^{\\beta}_{\\beta'}.\n",
    "$$"
   ],
   "cell_type": "markdown",
   "metadata": {}
  },
  {
   "source": [
    "Obviously, there is a degree of freedom in how one selects the basis of $\\mathcal A$ and $\\mathcal B$. To fix this, one can slects a basis in which $| \\psi \\rangle$ is diagonal,\n",
    "\n",
    "$$\n",
    "\\psi^{\\alpha \\beta} = U^{\\alpha}_{\\lambda} S^{\\lambda \\lambda'} {V^{\\dagger}}^{\\beta}_{\\lambda'},\n",
    "$$\n",
    "\n",
    "where the diagonal matrix $S^{\\lambda \\lambda'} = S^{\\lambda}$. Hence,\n",
    "\n",
    "$$\n",
    "| \\psi \\rangle = | \\lambda' \\rangle_{\\mathcal B} | \\lambda \\rangle_{\\mathcal A} S^{\\lambda},\n",
    "$$\n",
    "\n",
    "where $| \\lambda \\rangle_{\\mathcal A} = | \\alpha \\rangle_{\\mathcal A}U^{\\alpha}_{\\lambda}$ and $\\lambda_{\\mathcal B} = | \\beta \\rangle {V^{\\dagger}}_{\\lambda}^{\\beta}$ are orthonormal set of states for $\\mathcal A$ and $\\mathcal B$.\n",
    "\n",
    "Orthonormality of $| \\lambda \\rangle_{\\mathcal A}$ and $| \\lambda \\rangle_{\\mathcal B}$ can be checked by\n",
    "\n",
    "$$\n",
    "{}_{\\mathcal A} \\langle \\lambda' | \\lambda \\rangle_{\\mathcal A} = {U^{\\dagger}}^{\\lambda'}_{\\alpha} U^{\\alpha}_{\\lambda} = \\mathbf 1^{\\lambda'}_{\\lambda},\n",
    "$$\n",
    "\n",
    "and\n",
    "\n",
    "$$\n",
    "{}_{\\mathcal B} \\langle \\lambda' | \\lambda \\rangle_{\\mathcal B} = {V^{\\dagger}}^{\\lambda'}_{\\beta} V^{\\beta}_{\\lambda} = \\mathbf 1^{\\lambda}_{\\lambda'}.\n",
    "$$"
   ],
   "cell_type": "markdown",
   "metadata": {}
  },
  {
   "source": [
    "If one restricts the decomposition in the new basis only to the nonzero singular values, one gets the __Schmidt decomposition__:\n",
    "\n",
    "$$\n",
    "| \\psi \\rangle = \\sum^{r}_{\\lambda = 1} | \\lambda \\rangle_{\\mathcal B} | \\lambda \\rangle_{\\mathcal A} S_{\\lambda}.\n",
    "$$\n",
    "\n",
    "Denote by $r$ the number of non-zero singular values. For $r=1$ the $| \\psi \\rangle$ is a classical state, whereas for $r > 1$ the $| \\psi \\rangle$ is an entangled state."
   ],
   "cell_type": "markdown",
   "metadata": {}
  },
  {
   "source": [
    "In the Schmidt decomposition form, the reduced density matrix has a particularly convenient form, nameley it is the same for both $\\rho_{\\mathcal A}$ and $\\rho_{\\mathcal B}$ since $\\psi = S^{\\lambda} \\mathbf 1^{\\lambda \\lambda}$:\n",
    "\n",
    "$$\n",
    "\\rho_{\\mathcal A} = \\textrm{Tr}_{\\mathcal B} | \\psi \\rangle \\langle \\psi | = \\sum_{\\lambda} | \\lambda \\rangle_{\\mathcal A} (S_{\\lambda})^2 {}_{\\mathcal A} \\langle \\lambda |,\n",
    "$$\n",
    "\n",
    "and\n",
    "\n",
    "$$\n",
    "\\rho_{\\mathcal B} = \\textrm{Tr}_{\\mathcal A} | \\psi \\rangle \\langle \\psi | = \\sum_{\\lambda} | \\lambda \\rangle_{\\mathcal B} (S_{\\lambda})^2 {}_{\\mathcal B} \\langle \\lambda |.\n",
    "$$\n",
    "\n",
    "The entanglement entropy also reads directly from the singular values:\n",
    "\n",
    "$$\n",
    "S_{A/B} = - \\sum^{r}_{\\lambda = 1} (S_{\\lambda})^2 \\log_{2}(S_{\\lambda})^2\n",
    "$$"
   ],
   "cell_type": "markdown",
   "metadata": {}
  },
  {
   "source": [
    "## Approximating $| \\psi \\rangle$ by $| \\tilde{\\psi} \\rangle$"
   ],
   "cell_type": "markdown",
   "metadata": {}
  },
  {
   "source": [
    "Sometimes it is useful to approximate a state $| \\psi \\rangle$ by a _cheaper_ $| \\tilde{\\psi} \\rangle$ that encodes the same amount of entanglement. Suppose, $| \\psi \\rangle = \\sum_{\\lambda=1}^{r} = | \\lambda_{\\mathcal B} \\rangle | \\lambda \\rangle_{\\mathcal A} S_{\\lambda}$ $| \\tilde{\\psi} \\rangle = \\sum_{\\lambda=1}^{r'} = | \\lambda_{\\mathcal B} \\rangle | \\lambda \\rangle_{\\mathcal A} S_{\\lambda}$ where $r' < r$. Then the trancation error is expressed in the Frobenious norm\n",
    "\n",
    "$$\n",
    "\\| | \\psi \\rangle - | \\tilde{\\psi} \\rangle \\|^{2}_{2} = \\langle \\psi | \\psi \\rangle + \\langle \\tilde{\\psi} | \\tilde{\\psi} \\rangle - 2 \\textrm{Re} \\langle \\tilde{\\psi} | \\psi \\rangle\n",
    "= \n",
    "\\sum_{\\lambda=1}^{r} (S_{\\lambda})^2 + \\sum_{\\lambda=1}^{r'} (S_{\\lambda})^2 - 2\\sum_{\\lambda=1}^{r'} (S_{\\lambda})^2 = \\sum_{r=r'+1}^{r} (S_{\\lambda})^2.\n",
    "$$\n",
    "\n",
    "I.e., the approximation error is represented as a sum of squares of the discarded singlular values."
   ],
   "cell_type": "markdown",
   "metadata": {}
  },
  {
   "cell_type": "code",
   "execution_count": null,
   "metadata": {},
   "outputs": [],
   "source": []
  }
 ]
}