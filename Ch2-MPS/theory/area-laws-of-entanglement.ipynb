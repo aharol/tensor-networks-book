{
 "metadata": {
  "language_info": {
   "codemirror_mode": {
    "name": "ipython",
    "version": 3
   },
   "file_extension": ".py",
   "mimetype": "text/x-python",
   "name": "python",
   "nbconvert_exporter": "python",
   "pygments_lexer": "ipython3",
   "version": 3
  },
  "orig_nbformat": 2
 },
 "nbformat": 4,
 "nbformat_minor": 2,
 "cells": [
  {
   "source": [
    "# Area Laws of Entanglement Entropy"
   ],
   "cell_type": "markdown",
   "metadata": {}
  },
  {
   "source": [
    "The area law represents an upper bound on the amount of entanglement that a quantum system can have.\n",
    "\n",
    "Suppose, one is interested in characterizing how much entanglement a given quantum system has.\n",
    "Area laws are used to qualitativley characterize how entanglement depends on the system size.\n",
    "\n",
    "Consider a quantum system in a state $| \\psi \\rangle$ with a density matrix  $\\rho =  | \\psi \\rangle \\langle \\psi |$.\n",
    "\n",
    "Asume, one devides the system into subsystems $\\mathcal A$ and $\\mathcal B$ as shown on the Figure {numref}`spin-chain-cut-before`.\n",
    "```{figure} ./figs/area-law.pdf\n",
    ":height: 170px\n",
    ":name: area-law\n",
    "\n",
    "Illustration of the area law. Intanglement enropy $S_{A/B}$ between subsystems $\\mathcal A$ and $\\mathcal B$ of a physical system scales with the boundary separating the two subsystems, as indcated by $\\partial \\mathcal A$.\n",
    "```\n",
    "\n",
    "The reduced density matrix of $\\mathcal A$ is obtained by \"tracing out\" the subsystem $\\mathcal B$, giving $\\rho_{\\mathcal A} = {\\rm Tr}_{\\mathcal B} \\{\\rho\\}$.\n",
    "\n",
    "The entanglement entropy of $\\mathcal A$ and $\\mathcal B$ is a measure of cerrelation between the two subsystems. It is defined as $S_{\\mathcal A / \\mathcal B} = - {\\rm Tr} \\{ \\rho_{\\mathcal A} \\log_{2} {\\rho_{\\mathcal A}}\\}$. To compute this explicitly, one is required to diagonalize the density matrix (with the eigenbasis $\\omega_{\\alpha}$). In the new basis one can compute this as a sum $S_{\\mathcal A / \\mathcal B} = - \\sum_{\\alpha} \\omega_{\\alpha} \\log_{2} \\omega_{\\alpha}$.\n",
    "\n",
    "It can be shown, that if one considers a Hamiltonian with only local interactions, then the entanglement entropy is governed by the __area law__, meaning that it scales with the are of a boundary, denoted as $\\partial \\mathcal A$, separting the subsystems $\\mathcal A$ and $\\mathcal B$.\n",
    "\n",
    "If $L$ is a linear dimention of subsystem $\\mathcal A$, the the following holds true:\n",
    "\n",
    "* For a 3D __gapped sysmem__, the area of a subsystem scales proportionaly to the $L^{2}$;\n",
    "* For 2D __gapped sysmem__ system, the area scales proportional to $L$;\n",
    "* For 1D __gapped sysmem__ system, the area scales proportional to a $\\rm const$;\n",
    "* For a continious 1D __gapless system__, the area scales proportional ${\\rm const} + \\ln{N}$, which depend on the system size."
   ],
   "cell_type": "markdown",
   "metadata": {}
  },
  {
   "source": [
    "\n",
    "Now, suppose an MPS is used to describe the system. What is the bond dimension $D$ (the dimesion of the virtual indices $\\alpha, \\beta,\\gamma,\\cdots$) one should use in order to capture the amount of entanglement descibed by the area law?\n",
    "\n",
    "Consider an MPS of describing a $4$-site quantum chain represented in a local basis $\\sigma_{i}$, $i=1,\\cdots,4$ with virtual indices $\\alpha,\\lambda,\\beta$ as shown on the Figure {numref}`spin-chain-cut-before`.\n",
    "```{figure} ./figs/spin-chain-cut-before.pdf\n",
    ":height: 100px\n",
    ":name: spin-chain-cut-before\n",
    "\n",
    "Spliting the quantum system described by a MPS into $2$ equal subsystems by cutting the bond in the middle.\n",
    "```\n",
    "\n",
    "$$| \\psi \\rangle =  | \\sigma_{4} \\rangle \\otimes | \\sigma_{3} \\rangle \\otimes | \\sigma_{2} \\rangle \\otimes | \\sigma_{1} \\rangle A^{\\sigma_{1}}_{[1]\\alpha} A^{\\alpha \\sigma_{2}}_{[2]\\lambda} A^{\\lambda \\sigma_{3}}_{[3]\\beta} A^{\\beta \\sigma_{4}}_{[4]}.$$\n",
    "\n",
    "Suppose, one devides this system into two the left and the right parts with $2$ sites each. This means one has to cut the MPS somehow. Let's insert a unit matrix at the cut point, as shown on the Figure {numref}`spin-chain-cut-after`.\n",
    "```{figure} ./figs/spin-chain-cut-after.pdf\n",
    ":height: 90px\n",
    ":name: spin-chain-cut-after\n",
    "\n",
    "Inserting a unit matrix after cutting the MPS.\n",
    "```\n",
    "\n",
    "$$| \\psi \\rangle =  | \\sigma_{4} \\rangle \\otimes | \\sigma_{3} \\rangle \\otimes | \\sigma_{2} \\rangle \\otimes | \\sigma_{1} \\rangle A^{\\sigma_{1}}_{[1]\\alpha} A^{\\alpha \\sigma_{2}}_{[2]\\lambda} \\underbrace{ \\delta^{\\lambda\\bar{\\lambda}} \\delta_{\\bar{\\lambda}\\lambda'} }_{ \\mathbf 1 } A^{\\lambda' \\sigma_{3}}_{[3]\\beta} A^{\\beta \\sigma_{4}}_{[4]}.$$\n",
    "\n",
    "We can rewrite $| \\psi \\rangle$ as an entangled superposition of two states, each having a dimension at most $D$. Setting $A^{\\bar{\\lambda}\\sigma_{3}}_{[3]\\beta} = \\delta_{\\bar{\\lambda}\\lambda'}A^{\\lambda' \\sigma_{3}}_{[3]\\beta}$, one gets \n",
    "\n",
    "$$| \\psi \\rangle = {\\mathbb 1}^{\\lambda\\bar{\\lambda}} \\underbrace{ | \\sigma_{4} \\rangle \\otimes | \\sigma_{3} \\rangle A^{\\bar{\\lambda} \\sigma_{3}}_{[3]\\beta} A^{\\beta \\sigma_{4}}_{[4]} }_{ | \\bar{\\lambda} \\rangle_{R} } \\otimes \\underbrace{ | \\sigma_{2} \\rangle \\otimes | \\sigma_{1} \\rangle A^{\\sigma_{1}}_{[1] \\alpha} A^{\\alpha \\sigma_{2}}_{[2]\\lambda} }_{| \\lambda \\rangle_{L}} = \\sum^{D}_{\\lambda\\bar{\\lambda} = 1} {\\mathbb 1}^{\\lambda\\bar{\\lambda}} | \\bar{\\lambda} \\rangle_{R} \\otimes | \\lambda \\rangle_{L}.$$\n",
    "\n",
    "After summing over $\\bar{\\lambda}$ explicitly using the Kronecker delta, one gets \n",
    "\n",
    "$$| \\psi \\rangle = \\sum^{D}_{\\lambda = 1}| \\lambda \\rangle_{R} \\otimes | \\lambda \\rangle_{L}.$$\n",
    "\n",
    "This shows that any generic quantum state described in the form of a MPS can be expressed in the form of the superposition between the right and the left subsystems."
   ],
   "cell_type": "markdown",
   "metadata": {}
  },
  {
   "source": [
    "The density matrix $\\rho = | \\psi \\rangle \\langle \\psi | = \\sum_{\\lambda\\lambda'} | \\lambda \\rangle_{R} | \\lambda \\rangle_{L} {}_{L}\\langle \\lambda' | {}_{R} \\langle \\lambda' | $\n",
    "\n",
    "The reduced density matrix is \n",
    "\n",
    "$$\\rho_{\\mathcal A} = {\\rm Tr}_{\\mathcal B} \\{\\rho\\} = \\sum_{\\mu} {}_{R}\\langle \\mu | \\underbrace{ \\sum_{\\lambda \\lambda'} | \\lambda \\rangle_{R} | \\lambda \\rangle_{L} {}_{L}\\langle \\lambda' | {}_{R}\\langle \\lambda' | }_{\\rho} \\mu \\rangle_{R} = \\sum_{\\lambda\\lambda'} | \\lambda \\rangle_{L} (\\rho_{A})^{\\lambda}_{\\lambda'} {}_{L}\\langle \\lambda'|,$$\n",
    "\n",
    "where $\\mu$ represents a complete set of states on the subsystem $\\mathcal B$, and \n",
    "\n",
    "$$(\\rho_{\\mathcal A})^{\\lambda}_{\\lambda'} = \\sum_{\\mu} {}_{R} \\langle \\mu | \\lambda \\rangle_{R} {}_{R} \\langle \\lambda' | \\mu \\rangle_{R} = \\sum_{\\mu} {}_{R} \\langle \\lambda' \\underbrace{ | \\mu \\rangle_{R} {}_{R} \\langle \\mu |}_{\\mathbf 1_{B}} \\lambda \\rangle_{R} = {}_{R} \\langle \\lambda' | \\lambda \\rangle_{R}.$$\n",
    "\n",
    "This matrix has a rank at most $D$ as $\\lambda$ is characterizing the dimension of a cut point, which has the maximum bond dimension $D$. \n"
   ],
   "cell_type": "markdown",
   "metadata": {}
  },
  {
   "source": [
    "What is the maximum value that $S_{\\mathcal A / \\mathcal B}$ can take? \n",
    "\n",
    "Recall that for a density matrix $1 = {\\rm Tr}\\{\\rho_{\\mathcal A}\\} = \\sum_{\\alpha} \\omega_{\\alpha}, \\text{ where } \\alpha=1,\\cdots,D.$ Since $S_{\\mathcal A / \\mathcal B} = - \\sum^{D}_{\\alpha=1} \\omega_{\\alpha} \\log_{2}{\\omega_{\\alpha}}$, one can maximize it with respect to $\\omega_{\\alpha}$ to find the max value $\\omega_{\\alpha} = \\frac{1}{D}$, which brings one to the following inequality\n",
    "\n",
    "$$\n",
    "S_{\\mathcal A / \\mathcal B} = - \\sum^{D}_{\\alpha=1} \\omega_{\\alpha} \\log_{2}{\\omega_{\\alpha}} \\leq - \\sum^{D}_{\\alpha=1} \\frac{1}{D} \\log_{2}{\\frac{1}{D}} = \\log_{2}{D} \\Rightarrow 2^{S_{\\mathcal A / \\mathcal B}} \\leq D.\n",
    "$$"
   ],
   "cell_type": "markdown",
   "metadata": {}
  },
  {
   "source": [
    "What is the bond dimension $D$ one should choose to accuratly capture the entanglement entropy?\n",
    "\n",
    "Recacll, that\n",
    "\n",
    "* For a 1D gapped system, the entanglement entropy scales proportional to a $\\rm const$. Hence, the bond dimension required is $D \\sim 2^{\\rm const}$, which does not depend on the systems size;\n",
    "* For a 1D critical system, the entanglement entropy scales proportional to a $\\rm const + \\ln{N}$. Hence, the bond dimension required is $D \\sim 2^{{\\rm const} + \\ln{N}}$. It is a power low;\n",
    "* For a 2D gapped system, the bond dimension required is $D \\sim 2^{L}$;\n",
    "* For a 3D gapped system, the bond dimension required is $D \\sim 2^{L^2}$;\n",
    "\n",
    "MPS can encode ground state efficiently for gapped and gapless systems in 1D, but not 2D or 3D"
   ],
   "cell_type": "markdown",
   "metadata": {}
  },
  {
   "cell_type": "code",
   "execution_count": null,
   "metadata": {},
   "outputs": [],
   "source": []
  }
 ]
}