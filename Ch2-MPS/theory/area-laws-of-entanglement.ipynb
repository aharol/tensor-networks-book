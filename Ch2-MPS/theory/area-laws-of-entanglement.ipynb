{
 "metadata": {
  "language_info": {
   "codemirror_mode": {
    "name": "ipython",
    "version": 3
   },
   "file_extension": ".py",
   "mimetype": "text/x-python",
   "name": "python",
   "nbconvert_exporter": "python",
   "pygments_lexer": "ipython3",
   "version": 3
  },
  "orig_nbformat": 2
 },
 "nbformat": 4,
 "nbformat_minor": 2,
 "cells": [
  {
   "source": [
    "# Area Laws of Entanglement Entropy"
   ],
   "cell_type": "markdown",
   "metadata": {}
  },
  {
   "source": [
    "The area law represents an upper bound on the amount of entanglement that a quantum system can have.\n",
    "\n",
    "We are interested in characterizing how much entanglement is in the given quantum system.\n",
    "Area laws are used to qualitativley characterize how entanglement depends on the system size.\n",
    "\n",
    "Consider a quantum system in a state $| \\psi \\rangle$ with a density matrix  $\\rho =  | \\psi \\rangle \\langle \\psi |$.\n",
    "\n",
    "We devide the system into subsystems $A$ and $B$, and suppose the system $A$ has a linear dimesion $L$ as shown on the Figure {numref}`spin-chain-cut-before`.\n",
    "```{figure} ./figs/area-law.pdf\n",
    ":height: 170px\n",
    ":name: area-law\n",
    "\n",
    "Illustration of the area law. Assume a complete physical system is composed of subsytems $\\mathcal A$ and $\\mathcal B$. The boundary between the subsystems is indcated by $\\partial \\mathcal A$.\n",
    "```\n",
    "\n",
    "The reduced density matrix of $A$ is obtained by $\\rho_{A} = {\\rm Tr}_{B} \\{\\rho\\}$.\n",
    "\n",
    "The entanglement entropy of $A$ and $B$ is a measure how stronlgly they are correlated. It is defined as $S_{A/B} = - {\\rm Tr} \\{ \\rho_{A} \\log_{2} {\\rho_{{A}}}\\}$. To compute this explicitly, one should diagonalize the density matrix (with the eigenbasis $\\omega_{\\alpha}$). In the new basis one can compute this as a sum $S_{A/B} = - \\sum_{\\alpha} \\omega_{\\alpha} \\log_{2} \\omega_{\\alpha}$.\n",
    "\n",
    "It can be shown, that one considers a Hamiltonian with only local interactions, then the entanglement entropy is governed by the __area law__, meaning that it scales with the are of a boundary, denoted as $\\partial A$, separting the systems $A$ and $B$.\n",
    "\n",
    "* For a 3D __gapped sysmem__, the area of a subsystem scales proportionaly to the $L^{2}$, where $L$ is again a linear dimension;\n",
    "* For 2D __gapped sysmem__ system, the area scales proportional to $L$;\n",
    "* For 1D __gapped sysmem__ system, the area scales proportional to $\\rm const$;\n",
    "* For a continious 1D __gapless system__, the area scales proportional ${\\rm const} + \\ln{N}$, which depend on the system size.\n",
    "\n",
    "Now, suppose an MPS is used to describe the system. What is the bond dimension $D$ (the dimesion of the virtual indices $\\alpha, \\beta,\\gamma,\\cdots$) one should use in order to capture the amount of entanglement descibed by the area law?"
   ],
   "cell_type": "markdown",
   "metadata": {}
  },
  {
   "source": [
    "Consider an MPS of describing a $4$-site quantum chain represented in a local basis $\\sigma_{i}$, $i=1,\\cdots,4$ with virtual indices $\\alpha,\\lambda,\\beta$ as shown on the Figure {numref}`spin-chain-cut-before`.\n",
    "```{figure} ./figs/spin-chain-cut-before.pdf\n",
    ":height: 100px\n",
    ":name: spin-chain-cut-before\n",
    "\n",
    "Spin Chain before the cut.\n",
    "```\n",
    "\n",
    "$$| \\psi \\rangle =  | \\sigma_{4} \\rangle \\otimes | \\sigma_{3} \\rangle \\otimes | \\sigma_{2} \\rangle \\otimes | \\sigma_{1} \\rangle A^{\\sigma_{1}}_{\\alpha} B^{\\alpha \\sigma_{2}}_{\\lambda} C^{\\lambda \\sigma_{3}}_{\\beta} D^{\\beta \\sigma_{4}}.$$\n",
    "\n",
    "We can devide this system into two parts left and right with $2$ sites each.\n",
    "\n",
    "To cut the MPS, let's insert a unit matrix in the middle as shown on the Figure {numref}`spin-chain-cut-after`.\n",
    "```{figure} ./figs/spin-chain-cut-after.pdf\n",
    ":height: 90px\n",
    ":name: spin-chain-cut-after\n",
    "\n",
    "Spin Chain after the cut.\n",
    "```\n",
    "\n",
    "$$| \\psi \\rangle =  | \\sigma_{4} \\rangle \\otimes | \\sigma_{3} \\rangle \\otimes | \\sigma_{2} \\rangle \\otimes | \\sigma_{1} \\rangle A^{\\sigma_{1}}_{\\alpha} B^{\\alpha \\sigma_{2}}_{\\lambda} \\underbrace{ \\delta^{\\lambda\\bar{\\lambda}} \\delta_{\\bar{\\lambda}\\lambda'} }_{ \\mathbb 1 } C^{\\lambda' \\sigma_{3}}_{\\beta} D^{\\beta \\sigma_{4}},$$\n",
    "\n",
    "where we also replaced $\\lambda = \\lambda'$ for convenience. By this, we split the system into subsytems $A$ and $B$.\n",
    "\n",
    "Let's set $C^{\\sigma_{3}}_{\\bar{\\lambda}\\beta} = \\delta_{\\bar{\\lambda}\\lambda'}C^{\\lambda' \\sigma_{3}}_{\\beta}$. \n",
    "\n",
    "We can now rewrite $| \\psi \\rangle$ as entangled superposition of two states, each having a dimension at most $D$.\n",
    "$$| \\psi \\rangle = {\\mathbb 1}^{\\lambda\\bar{\\lambda}} \\underbrace{ | \\sigma_{4} \\rangle \\otimes | \\sigma_{3} \\rangle C^{\\sigma_{3}}_{\\bar{\\lambda} \\beta} D^{\\beta \\sigma_{4}} }_{| \\bar{\\lambda} \\rangle_{R} } \\otimes \\underbrace{ | \\sigma_{2} \\rangle \\otimes | \\sigma_{1} \\rangle A^{\\sigma_{1}}_{\\alpha} B^{\\alpha \\sigma_{2}}_{\\lambda} }_{| \\lambda \\rangle_{L}} = \\sum^{D}_{\\lambda\\bar{\\lambda} = 1} {\\mathbb 1}^{\\lambda\\bar{\\lambda}} | \\bar{\\lambda} \\rangle_{R} \\otimes | \\lambda \\rangle_{L}.$$\n",
    "\n",
    "After summing over $\\bar{\\lambda}$, one gets $| \\psi \\rangle = \\sum^{D}_{\\lambda = 1}| \\lambda \\rangle_{R} \\otimes | \\lambda \\rangle_{L}$. This shows that any generic quantum state that can me described in the form of the MPS can be expressed in the form of superposition between the right and the left subsystems."
   ],
   "cell_type": "markdown",
   "metadata": {}
  },
  {
   "source": [
    "The density matrix $\\rho = | \\psi \\rangle \\langle \\psi | = \\sum_{\\lambda\\lambda'} | \\lambda \\rangle_{R} | \\lambda \\rangle_{L} {}_{L}\\langle \\lambda' | {}_{R} \\langle \\lambda' | $\n",
    "\n",
    "The reduced density matrix is $\\rho_{A} = {\\rm Tr}_{B} \\{\\rho\\} = \\sum_{\\mu} \\langle \\mu |_{R} \\underbrace{ \\sum_{\\lambda \\lambda'} | \\lambda \\rangle_{R} | \\lambda \\rangle_{L} {}_{L}\\langle \\lambda' | {}_{R}\\langle \\lambda' | }_{\\rho} \\mu \\rangle_{R} = \\sum_{\\lambda\\lambda'} | \\lambda \\rangle_{L} (\\rho_{A})^{\\lambda}_{\\lambda'} {}_{L}\\langle \\lambda'|$, \n",
    "\n",
    "where $\\mu$ represent a complete set of states on the subsystem $B$, and \n",
    "\n",
    "$$(\\rho_{A})^{\\lambda}_{\\lambda'} = \\sum_{\\mu} {}_{R} \\langle \\mu | \\lambda \\rangle_{R} {}_{R} \\langle \\lambda' | \\mu \\rangle_{R} = \\sum_{\\mu} {}_{R} \\langle \\lambda' \\underbrace{ | \\mu \\rangle_{R} {}_{R} \\langle \\mu |}_{\\mathbb 1_{B}} \\lambda \\rangle_{R} = {}_{R} \\langle \\lambda' | \\lambda \\rangle_{R}.$$\n",
    "\n",
    "This matrix has rank at most $D$ as $\\lambda$ is characterizing the dimension of a cut point, which has bond dimension $D$. Hence, because \n",
    "\n",
    "$$\n",
    "1 = {\\rm Tr}\\{\\rho_{A}\\} = \\sum_{\\alpha} \\omega_{\\alpha}, \\text{ where } \\alpha=1,\\cdots,D.\n",
    "$$\n",
    "\n",
    "What is the maximum value that $S$ can take? Recalling that $S = - \\sum^{D}_{\\alpha=1} \\omega_{\\alpha} \\log_{2}{\\omega_{\\alpha}}$, one can maximize it with respect to $\\omega_{\\alpha}$ to find that the max value $\\omega_{\\alpha} = \\frac{1}{D}$, which brings one to the following\n",
    "\n",
    "$$\n",
    "S = - \\sum^{D}_{\\alpha=1} \\omega_{\\alpha} \\log_{2}{\\omega_{\\alpha}} \\leq - \\sum^{D}_{\\alpha=1} \\frac{1}{D} \\log_{2}{\\frac{1}{D}} = \\log_{2}{D} \\Rightarrow 2^{S} \\leq D.\n",
    "$$\n"
   ],
   "cell_type": "markdown",
   "metadata": {}
  },
  {
   "source": [
    "What is the bond dimension $D$ one should choose to accuratly capture the entanglement entropy?"
   ],
   "cell_type": "markdown",
   "metadata": {}
  },
  {
   "source": [
    "Recacll, that\n",
    "\n",
    "* For a 1D gapped system, the entanglement entropy scales proportional to a constant. Hence, the bond dimension required is $D \\sim 2^{\\rm const}$, which does not depend on the systems size;\n",
    "* For a 1D critical system, the entanglement entropy scales proportional to a constant. Hence, the bond dimension required is $D \\sim 2^{{\\rm const} + \\ln{N}}$. It is a power low;\n",
    "* For a 2D gapped system, the bond dimension required is $D \\sim 2^{L}$;\n",
    "* For a 3D gapped system, the bond dimension required is $D \\sim 2^{L^2}$;"
   ],
   "cell_type": "markdown",
   "metadata": {}
  },
  {
   "source": [
    "MPS can encode ground state efficiently for gapped and gapless systems in 1D, but not 2D or 3D"
   ],
   "cell_type": "markdown",
   "metadata": {}
  }
 ]
}