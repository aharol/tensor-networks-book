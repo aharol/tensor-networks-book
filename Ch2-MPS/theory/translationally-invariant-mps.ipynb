{
 "metadata": {
  "language_info": {
   "codemirror_mode": {
    "name": "ipython",
    "version": 3
   },
   "file_extension": ".py",
   "mimetype": "text/x-python",
   "name": "python",
   "nbconvert_exporter": "python",
   "pygments_lexer": "ipython3",
   "version": 3
  },
  "orig_nbformat": 2
 },
 "nbformat": 4,
 "nbformat_minor": 2,
 "cells": [
  {
   "source": [
    "# Translationally invariant MPS"
   ],
   "cell_type": "markdown",
   "metadata": {}
  },
  {
   "source": [
    "Translationally invariant MPS is a system with infinite length or with periodic boundary condition. The characteristic of such system is that all tensors in the chain are identical, i.e. $A_{[\\ell]} = A$ for all $\\ell$.\n",
    "\n",
    "In this section we describe such systems and show how one can compute correlatiomn functions for them."
   ],
   "cell_type": "markdown",
   "metadata": {}
  },
  {
   "source": [
    "## Transfer matrix"
   ],
   "cell_type": "markdown",
   "metadata": {}
  },
  {
   "source": [
    "Without the loss of generality, consider a length $N$ chain with a periodic boundary condition (see Figure {numref}`umps` for details):\n",
    "```{figure} ./figs/umps.pdf\n",
    ":height: 100px\n",
    ":name: umps\n",
    "\n",
    "Translationally invariant MPS (uniform MPS, or uMPS).\n",
    "```\n",
    "\n",
    "$$\n",
    "| \\psi \\rangle = | \\vec{\\sigma} \\rangle {A_{[1]}}^{\\alpha \\sigma_1}_{\\beta} {A_{[2]}}^{\\beta \\sigma_2}_{\\gamma} \\cdots {A_{[N]}}^{\\omega \\sigma_N}_{\\alpha}\n",
    "=\n",
    "| \\vec{\\sigma} \\rangle \\textrm{Tr}\\left[ {A_{[1]}}^{\\alpha \\sigma_1}_{\\beta} {A_{[2]}}^{\\beta \\sigma_2}_{\\gamma} \\cdots {A_{[N]}}^{\\omega \\sigma_N}_{\\alpha}\\right]\n",
    "$$\n",
    "\n",
    "where the first and the last indices coincide and the implicit sum is replaced by the trace. Note, that because all $A_{[\\ell]}$ are the same, we demand that all bond dimensions are identical, i.e. $D_{\\alpha} = D_{\\beta} = \\cdots = D_{\\omega} = D$.\n",
    "\n",
    "Figure {numref}`umps-ladder` shows diagrammatic notation for this.\n",
    "```{figure} ./figs/umps-ladder.pdf\n",
    ":height: 200px\n",
    ":name: umps-ladder\n",
    "\n",
    "Normalization of the uniform MPS.\n",
    "```"
   ],
   "cell_type": "markdown",
   "metadata": {}
  },
  {
   "source": [
    "The overlap\n",
    "\n",
    "$$\n",
    "\\langle \\psi | \\psi \\rangle = {A^{\\dagger}_{[N]}}^{\\alpha'}_{\\sigma_N \\omega'} \\cdots {A^{\\dagger}_{[2]}}^{\\gamma'}_{\\sigma_2 \\beta'} {A^{\\dagger}_{[1]}}^{\\beta'}_{\\sigma_1 \\alpha'} {A_{[1]}}^{\\alpha}_{\\sigma_1 \\beta} {A_{[2]}}^{\\beta}_{\\sigma_2 \\gamma} \\cdots {A_{[N]}}^{\\omega \\sigma_{[N]}}_{\\alpha}\n",
    "=\n",
    "\\underbrace{ \\left( {A^{\\dagger}_{[1]}}^{\\beta'}_{\\sigma_1\\alpha'} {A_{[1]}}^{\\alpha \\sigma_1}_{\\beta} \\right) }_{ {T_{[1]}}^{\\alpha \\beta'}_{\\alpha'\\beta} } \\underbrace{ \\left( {A^{\\dagger}_{[2]}}^{\\gamma'}_{\\sigma_2 \\beta'} {A_{[2]}}^{\\beta \\sigma_2}_{\\gamma} \\right) }_{ {T_{[2]}}^{\\beta\\gamma'}_{\\beta'\\gamma} } \\cdots \\underbrace{ \\left( {A^{\\dagger}_{[N]}}^{\\alpha'}_{\\sigma_N \\omega'} {A_{[N]}}^{\\omega \\sigma_N}_{\\alpha} \\right) }_{ {T_{[N]}}^{\\omega\\alpha'}_{\\omega'\\alpha}},\n",
    "$$\n",
    "\n",
    "where after regrouping the components one defines the transfer operators ${T_{[\\ell]}}_{a}^{b} \\equiv {T_{[\\ell]}}_{\\alpha'\\beta}^{\\alpha \\beta'} = {A^{\\dagger}_{[\\ell]}}^{\\beta'}_{\\sigma_\\ell\\alpha'} {A_{[\\ell]}}^{\\alpha \\sigma_\\ell}_{\\beta}$ with collective indices $a=\\alpha'\\beta$ and $b=\\alpha\\beta'$. Figure {numref}`transfer-matrix` shows diagrammatic notation for this.\n",
    "```{figure} ./figs/transfer-matrix.pdf\n",
    ":height: 200px\n",
    ":name: transfer-matrix\n",
    "\n",
    "Transfer operator definition.\n",
    "```"
   ],
   "cell_type": "markdown",
   "metadata": {}
  },
  {
   "source": [
    "Because all matrices $A_[\\ell]$ are identical, we can rewrite the overlap as\n",
    "\n",
    "$$\n",
    "\\langle \\psi | \\psi \\rangle = {T_{[1]}}^{a}_{b} {T_{[2]}}^{b}_{c} \\cdots {T_{[N]}}^{z}_{a} = \\textrm{Tr}\\left[ T_{[1]} T_{[2]} \\cdots T_{[N]}\\right] = \\textrm{Tr} \\left[ T^N \\right] \\overset{N\\rightarrow\\infty}{\\longrightarrow} (t_{\\textrm{max}})^N,\n",
    "$$\n",
    "\n",
    "where $t_{\\textrm{max}}$ is the maximal eigenvalue of $T$ dominating others in the limit.\n",
    "\n",
    "For the left-normalized $A_{[\\ell]}$'s the MPS is normalized to unity, i.e. $\\langle \\psi | \\psi \\rangle = 1$. It follows that $(t_{\\textrm{max}})^N = 1$, or equivalently $t_{\\textrm{max}} = 1$. This implies tha all eigenvalues of $T$ are lying inside of a unit sphere, $|t_j| \\leq 1$, and the eigenvalue corresponding to $t_{\\textrm{max}}$ is $V_{\\textrm{max}} = \\mathbf 1$.\n"
   ],
   "cell_type": "markdown",
   "metadata": {}
  },
  {
   "source": [
    "## Correlation functions"
   ],
   "cell_type": "markdown",
   "metadata": {}
  },
  {
   "source": [
    "Consider a local operator \n",
    "\n",
    "$$\n",
    "\\hat{O}_{[\\ell]} = | \\sigma'_{\\ell} \\rangle {O_{[\\ell]}}^{\\sigma'_{\\ell}}_{\\sigma_{\\ell}} \\langle \\sigma_{\\ell}|,\n",
    "$$\n",
    "\n",
    "with a corresponding transfer matrix\n",
    "\n",
    "$$\n",
    "T^{[\\ell]}_{O} = {A^{\\dagger}}_{\\sigma'_{\\ell}} {O_{[\\ell]}}^{\\sigma'_{\\ell}}_{\\sigma_{\\ell}} A^{\\sigma_{\\ell}}.\n",
    "$$\n",
    "\n",
    "Diagrammatically, this is depicted on Figure {numref}`transfer-matrix-with-operator` shows diagrammatic notation for this.\n",
    "```{figure} ./figs/transfer-matrix-with-operator.pdf\n",
    ":height: 200px\n",
    ":name: transfer-matrix-with-operator\n",
    "\n",
    "Local operator wirh a corresponding transfer matrix.\n",
    "```\n",
    "\n",
    "\n",
    "The correlation between two operators $O_{[\\ell]}$ and $O_{[\\ell']}$ is defined as\n",
    "\n",
    "$$\n",
    "C_{\\ell'\\ell} = \\langle \\psi | O_{[\\ell']} O_{[\\ell]} | \\rangle = \\textrm{Tr} \\left( T^{\\ell'-1} T_{O_{[\\ell']}} T^{\\ell - \\ell' - 1} T_{[O_{[\\ell]}]} T^{N-\\ell} \\right)\n",
    "=\n",
    "\\textrm{Tr}\\left( T^{N-(\\ell - \\ell')-1} T_{O_{[\\ell']}} T^{\\ell - \\ell' - 1} T_{[O_{[\\ell]}]} \\right)\n",
    "$$\n",
    "where the cyclic property of $\\textrm{Tr}(\\cdot)$ was used.\n",
    "\n",
    "In the eigenbasis of the transfer matrix, the correlator is\n",
    "\n",
    "$$\n",
    "C_{\\ell'\\ell} = \\sum_{jj'}(t_j)^{N-(\\ell -\\ell')-1}(T_{O_{[\\ell']}})^{j'}_{j}(t_j)^{\\ell-\\ell'-1}(T_{O_{[\\ell]}})^{j}_{j'}.\n",
    "$$\n",
    "\n",
    "In the limit, $N \\rightarrow \\infty$, only the contribution of the largest eigenvalue $t_{\\textrm{max}}$ will survive:\n",
    "\n",
    "$$\n",
    "C_{\\ell'\\ell}\\overset{N\\rightarrow\\infty}{\\longrightarrow} t_{\\textrm{max}}^N \\sum_{j} (T_{O_{[\\ell']}})^{1}_{j} \\left(\\frac{t_j}{t_{\\textrm{max}}}\\right)^{\\ell-\\ell'-1}\\left(T_{[O_{[\\ell]}]}\\right)^{j}_{1}\n",
    "$$\n",
    "\n",
    "\n",
    "See Figure {numref}`correlation-function`\n",
    "```{figure} ./figs/correlation-function.pdf\n",
    ":height: 200px\n",
    ":name: correlation-function\n",
    "\n",
    "Correlation between two operators in the uniform MPS.\n",
    "```"
   ],
   "cell_type": "markdown",
   "metadata": {}
  },
  {
   "source": [
    "Assuming $O_{[\\ell]} = O^\\dagger_{[\\ell']} = O$, and taking the limit $\\ell - \\ell' rightarrow \\infty$, one gets\n",
    "\n",
    "$$\n",
    "C_{\\ell'\\ell}\\overset{N\\rightarrow\\infty}{\\longrightarrow} t_{\\textrm{max}}^N \\left[ \\left|(T_{O})^{1}_{1}\\right|^2 + \\left|(T_{O})^{1}_{2}\\right|^2 \\left(\\frac{t_2}{t_{\\textrm{max}}}\\right)^{\\ell-\\ell'-1} + \\cdots \\right].\n",
    "$$\n",
    "\n",
    "After the normalization\n",
    "\n",
    "$$\n",
    "\\frac{C_{\\ell'\\ell}}{\\langle \\psi| \\psi \\rangle} = \\frac{\\langle \\psi | O_{[\\ell']} O_{[\\ell]} | \\psi \\rangle}{\\langle \\psi| \\psi \\rangle} \\overset{N\\rightarrow\\infty, \\ell-\\ell'\\rightarrow\\infty}{\\longrightarrow} \\left| \\left(T_{O}\\right)^{1}_{1} \\right|^2 + {\\mathcal O}\\left(\\left(\\frac{t_2}{t_{\\textrm{max}}}\\right)^{\\ell-\\ell'-1}\\right)\n",
    "$$\n",
    "\n",
    "* If $\\left( T_{[O]}\\right)^{1}_{1} \\neq 0$ we get __long range order__. \n",
    "* If $\\left(T_{[O]}\\right)^{1}_{1} = 0$ we obtain __exponential decay__ $e^{-\\frac{|\\ell-\\ell'|}{\\xi}}$ with the correlation length $\\xi = \\left[\\ln\\left(\\frac{t_{\\textrm{max}}}{t_2}\\right)\\right]^{-1}$."
   ],
   "cell_type": "markdown",
   "metadata": {}
  },
  {
   "cell_type": "code",
   "execution_count": null,
   "metadata": {},
   "outputs": [],
   "source": []
  }
 ]
}