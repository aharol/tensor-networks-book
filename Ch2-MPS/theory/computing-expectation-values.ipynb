{
 "metadata": {
  "language_info": {
   "codemirror_mode": {
    "name": "ipython",
    "version": 3
   },
   "file_extension": ".py",
   "mimetype": "text/x-python",
   "name": "python",
   "nbconvert_exporter": "python",
   "pygments_lexer": "ipython3",
   "version": 3
  },
  "orig_nbformat": 2
 },
 "nbformat": 4,
 "nbformat_minor": 2,
 "cells": [
  {
   "source": [
    "# Computing Expectation Values"
   ],
   "cell_type": "markdown",
   "metadata": {}
  },
  {
   "source": [
    "## MPS with 2 sites"
   ],
   "cell_type": "markdown",
   "metadata": {}
  },
  {
   "source": [
    "Consider the following a $2$ sites MPS as shown on the Figure {numref}`2-sites-only-left-to-right`.\n",
    "```{figure} ./figs/2-sites-only-left-to-right.pdf\n",
    ":height: 100px\n",
    ":name: 2-sites-only-left-to-right\n",
    "\n",
    "Two sites MPS.\n",
    "```\n",
    "\n",
    "The state of the system is\n",
    "\n",
    "$$\n",
    "| \\psi \\rangle = | \\sigma_{1} \\rangle \\otimes | \\sigma_{2} \\rangle {A_{[1]}}^{1 \\sigma_{1}}_{\\alpha} {A_{[2]}}^{\\alpha \\sigma_{2} }_{1}.\n",
    "$$\n",
    "\n",
    "The dual state of the systems is\n",
    "\n",
    "$$\n",
    "\\langle \\psi' | =  {A^{\\dagger}_{[2]}}_{\\sigma'_{2} \\alpha'}^{1} {A^{\\dagger}_{[1]}}_{ \\sigma'_{1} 1}^{ \\alpha'} \\langle \\sigma'_{2} | \\otimes \\langle \\sigma'_{1} |. \n",
    "$$\n",
    "\n",
    "Then, the overlap is\n",
    "\n",
    "$$\n",
    "\\langle \\psi' | \\psi \\rangle = {A^{\\dagger}_{[2]}}_{\\sigma'_{2} \\alpha'}^{1} {A^{\\dagger}_{[1]}}_{ \\sigma'_{1} 1}^{ \\alpha'} \\underbrace{ \\langle \\sigma'_{2} |   \\otimes \\overbrace{ \\langle \\sigma'_{1} | \\sigma_{1} \\rangle }^{\\delta^{\\sigma'_{1} }_{ \\sigma_{1}}} \\otimes | \\sigma_{2} }_{\\delta^{\\sigma'_{2}}_{\\sigma_{2}}} \\rangle {A_{[1]}}^{1 \\sigma_{1}}_{\\alpha} {A_{[2]}}^{\\alpha \\sigma_{2}}_{1} \n",
    "= ( {A^{\\dagger}_{[2]}}^{1}_{\\sigma'_{2}} {A^{\\dagger}_{[1]}}_{\\sigma'_{1} 1}) ({A_{[1]}}^{1 \\sigma_{1}} {A_{[2]}}^{\\sigma^{2}}_{1})\n",
    "$$"
   ],
   "cell_type": "markdown",
   "metadata": {}
  },
  {
   "source": [
    "## MPS with many sites"
   ],
   "cell_type": "markdown",
   "metadata": {}
  },
  {
   "source": [
    "Consider a geric quantum state expressed as an MPS as follows\n",
    "\n",
    "$$\n",
    "| \\psi \\rangle = | \\sigma_{1} \\rangle \\otimes | \\sigma_{2} \\rangle \\otimes \\cdots  | \\sigma_{N} \\rangle  {A_{[1]}}^{1 \\sigma_{1}}_{\\alpha} {A_{[2]}}^{\\alpha \\sigma_{2} }_{\\beta} \\cdots {A_{[N]}}^{\\omega \\sigma_{N}}_{1}.\n",
    "$$\n",
    "\n",
    "This state is graphically depicted on Figure {numref}`mps-simple-left-to-right`.\n",
    "```{figure} ./figs/mps-simple-left-to-right.pdf\n",
    ":height: 100px\n",
    ":name: mps-simple-left-to-right\n",
    "\n",
    "Many sites MPS.\n",
    "```"
   ],
   "cell_type": "markdown",
   "metadata": {}
  },
  {
   "source": [
    "The dual is\n",
    "\n",
    "$$\n",
    "\\langle \\psi' | = {A^{\\dagger}_{[N]}}^{1}_{\\sigma_{N} \\omega'} \\cdots {A^{\\dagger}_{[2]}}^{\\beta'}_{\\sigma_{2} \\alpha'}  {A^{\\dagger}_{[1]}}^{\\alpha'}_{\\sigma_{1} 1}  \\langle \\sigma_{N} | \\otimes \\cdots \\otimes \\langle \\sigma_{1} | \\otimes \\langle \\sigma_{1} |.\n",
    "$$"
   ],
   "cell_type": "markdown",
   "metadata": {}
  },
  {
   "source": [
    "The overlap is then\n",
    "\n",
    "$$\n",
    "\\langle \\psi' | \\psi \\rangle =  {A^{\\dagger}_{[N]}}^{1}_{\\sigma_{N} \\omega'} \\cdots {A^{\\dagger}_{[2]}}^{\\beta'}_{\\sigma_{2} \\alpha'} {A^{\\dagger}_{[1]}}^{\\alpha'}_{\\sigma_{1} 1} {A_{[1]}}^{1 \\sigma_{1}}_{\\alpha} {A_{[2]}}^{\\alpha \\sigma_{2} }_{\\beta} \\cdots {A_{[N]}}^{\\omega \\sigma_{N}}_{1}\n",
    "$$"
   ],
   "cell_type": "markdown",
   "metadata": {}
  },
  {
   "source": [
    "The graphical representation of this is shown on Figure {numref}`ladder-open-ends-many`.\n",
    "```{figure} ./figs/ladder-open-ends-many.pdf\n",
    ":height: 200px\n",
    ":name: ladder-open-ends-many\n",
    "\n",
    "Graphical representation of the overlap between quantum states.\n",
    "```"
   ],
   "cell_type": "markdown",
   "metadata": {}
  },
  {
   "source": [
    "Despite the same output result, contracting this in different ways has a different computational complexity invoved. Indeed, doing matrix multiplication first for a fixed $| \\sigma_{1} \\rangle \\otimes | \\sigma_{2} \\rangle \\otimes \\cdots  | \\sigma_{N} \\rangle$ and then suming over $| \\sigma_{1} \\rangle \\otimes | \\sigma_{2} \\rangle \\otimes \\cdots  | \\sigma_{N} \\rangle$ gets $d^N$ terms terms each of which is a product of $2N$ matrices (left and right virtual bonds). This is exponentially costly.\n",
    "\n",
    "However, one can perform the contraction iteratively from the left to write. \n",
    "\n",
    "On the first step, we connect the left dangling indices of the MPS by a wire (summing over the connected index). This is equivalent to inserting a unit operator $B_{[0]} = \\mathbf 1$ (which, obviously, changes nothing). Graphics is shown on Figure {numref}`ladder-left-contraction-process`.\n",
    "```{figure} ./figs/ladder-left-contraction-process.pdf\n",
    ":height: 230px\n",
    ":name: ladder-left-contraction-process\n",
    "\n",
    "Graphical representation of the MPS contraction process.\n",
    "```\n",
    "\n",
    "Algebraically, this is equivalent to the following\n",
    "\n",
    "$$\n",
    "\\langle \\psi' | \\psi \\rangle = \\underbrace{ {A^{\\dagger}_{[N]}}^{1}_{\\sigma_{N} \\omega'} \\cdots \\underbrace{ {A^{\\dagger}_{[2]}}^{\\beta'}_{\\sigma_{2} \\alpha'} \\underbrace{ {A^{\\dagger}_{[1]}}^{\\alpha'}_{\\sigma_{1} 1} \\cdot \\underbrace{ {B_{[0]}}^{1}_{1}}_{\\equiv \\mathbf 1} \\cdot {A_{[1]}}^{1 \\sigma_{1}}_{\\alpha} }_{ \\equiv {B_{[1]}}^{\\alpha'}_{\\alpha}} {A_{[2]}}^{\\alpha \\sigma_{2} }_{\\beta}}_{ \\equiv {B_{[2]}}^{\\beta'}_{\\beta} } \\cdots {A_{[N]}}^{\\omega \\sigma_{N}}_{1} }_{ \\equiv  {B_{[N]}}^{\\omega'}_{\\omega}}\n",
    "$$\n",
    "\n",
    "Note, that the total cost of the MPS where all $A$'s are $D \\times d \\times D$ tensors is $D^3dN$, which scales linearly with the MPS size."
   ],
   "cell_type": "markdown",
   "metadata": {}
  },
  {
   "source": [],
   "cell_type": "markdown",
   "metadata": {}
  }
 ]
}