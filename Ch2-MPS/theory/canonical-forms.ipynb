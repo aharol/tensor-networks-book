{
 "metadata": {
  "language_info": {
   "codemirror_mode": {
    "name": "ipython",
    "version": 3
   },
   "file_extension": ".py",
   "mimetype": "text/x-python",
   "name": "python",
   "nbconvert_exporter": "python",
   "pygments_lexer": "ipython3",
   "version": 3
  },
  "orig_nbformat": 2
 },
 "nbformat": 4,
 "nbformat_minor": 2,
 "cells": [
  {
   "source": [
    "# MPS Canonical Forms"
   ],
   "cell_type": "markdown",
   "metadata": {}
  },
  {
   "source": [
    "Matrix products can be equivalently expressed as\n",
    "\n",
    "$$\n",
    "A A' = A \\underbrace{ U U^{-1} }_{\\mathbf 1} A' = \\underbrace{(A U)}_{B} \\underbrace{( U^{-1} A')}_{B'} = B B'.\n",
    "$$\n",
    "\n",
    "This is called a _gauge freedom_. Gauge freedom can be used to reshape a MPS to a convenient canonical form."
   ],
   "cell_type": "markdown",
   "metadata": {}
  },
  {
   "source": [
    "## Left Canonical Form"
   ],
   "cell_type": "markdown",
   "metadata": {}
  },
  {
   "source": [
    "Assume a state\n",
    "\n",
    "$$\n",
    "| \\psi \\rangle = | \\vec{ \\sigma }\\rangle A^{\\sigma_{1}} A^{\\sigma_{2}} \\cdots A^{\\sigma_{N}}\n",
    "$$\n",
    "\n",
    "where $| \\vec{ \\sigma }\\rangle = |\\sigma_{N} \\cdots \\sigma_{2} \\sigma_{1} \\rangle = |\\sigma_{N} \\rangle \\otimes \\cdots \\otimes | \\sigma_{2} \\rangle \\otimes | \\sigma_{1} \\rangle$, and other indeices are dropped to clean the space.\n",
    "\n",
    "A left canonical of an MPS is a form where all $A^{\\sigma_i}$ are left-normalized, i.e. \n",
    "\n",
    "$${A^{\\sigma_{i}}}^{\\dagger} A^{\\sigma_{i}} = \\mathbf 1$$."
   ],
   "cell_type": "markdown",
   "metadata": {}
  },
  {
   "source": [
    "Graphically, normalizated matrices can be depicted as shown on Figure {numref}`normalized_matrices`.\n",
    "```{figure} ./figs/normalized_matrices.pdf\n",
    ":height: 33px\n",
    ":name: normalized_matrices\n",
    "\n",
    "Graphical notation for normalized matrices.\n",
    "```\n"
   ],
   "cell_type": "markdown",
   "metadata": {}
  },
  {
   "source": [
    "See Figure {numref}`2-sites-before-normalization`.\n",
    "```{figure} ./figs/2-sites-before-normalization.pdf\n",
    ":height: 100px\n",
    ":name: 2-sites-before-normalization\n",
    "\n",
    "Two neigbouring sites before the normalization process.\n",
    "```\n",
    "\n",
    "{numref}`2-sites-left-normalization`.\n",
    "```{figure} ./figs/2-sites-left-normalization.pdf\n",
    ":height: 125px\n",
    ":name: 2-sites-left-normalization\n",
    "\n",
    "Graphical notation for left normalization process. Left normalization via singular value decoosition.\n",
    "```"
   ],
   "cell_type": "markdown",
   "metadata": {}
  },
  {
   "source": [
    "Algebraically, the Figure {numref}`2-sites-left-normalization` can be written as\n",
    "\n",
    "$$\n",
    "\\mbox{$A_{[i]}$}^{\\alpha \\sigma_{i}}_{\\beta} {A_{[i+1]}}^{\\beta \\sigma_{i+1}}_{\\gamma} \n",
    "=\n",
    "\\underbrace{ (U^{\\alpha\\sigma_{i}}_{\\lambda}) }_{ {B_{[i]}}^{\\alpha \\sigma_{i}}_{\\lambda}} \\underbrace{ (S^{\\lambda}_{\\lambda'} {V^{\\dagger}}^{\\lambda'}_{\\beta} {A_{[i+1]}}^{\\beta \\sigma_{i+1}}_{\\gamma}) }_{ \\mbox{${{\\tilde A}_{[i+1]}}$}^{\\beta \\sigma_{i+1}}_{\\gamma}}\n",
    "=\n",
    "{B_{[i]}}^{\\alpha \\sigma_{i}}_{\\lambda} \\mbox{${{\\tilde A}_{[i+1]}}$} ^{\\beta \\sigma_{i+1}}_{\\gamma}.\n",
    "$$"
   ],
   "cell_type": "markdown",
   "metadata": {}
  },
  {
   "source": [
    "To bring the whole MPS into a left-canonical form, one repeats the process above from left to right.\n",
    "\n",
    "At the last node \n",
    "$$\n",
    "{{\\tilde A}_{[N]}}^{\\lambda \\sigma_{N}}_{1}\n",
    "=\n",
    "\\underbrace{ U^{\\lambda \\sigma_{N}}_{1} }_{B^{\\lambda \\sigma_{N}}_{1}} \\underbrace { S^{1}_{1} }_{s} \\underbrace { {V^{\\dagger}}^{1}_{1} }_{1} = B^{\\lambda \\sigma_{N}}_{1} s\n",
    "$$\n"
   ],
   "cell_type": "markdown",
   "metadata": {}
  },
  {
   "source": [
    "Hence, the full left canonical form is\n",
    "\n",
    "$$\n",
    "| \\psi \\rangle = | \\vec{\\sigma} \\rangle \\left( B^{\\sigma_{1}} B^{\\sigma_{2}} \\cdots B^{\\sigma_{N}} \\right ) s\n",
    "$$\n",
    "\n",
    "It is easy to see, that the final singular value determines the normalization constant for the MPS, e.g. $\\langle \\psi| \\psi \\rangle = s^2$."
   ],
   "cell_type": "markdown",
   "metadata": {}
  },
  {
   "cell_type": "code",
   "execution_count": null,
   "metadata": {},
   "outputs": [],
   "source": []
  }
 ]
}